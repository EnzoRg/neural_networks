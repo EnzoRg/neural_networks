{
 "cells": [
  {
   "cell_type": "markdown",
   "metadata": {
    "id": "NRYEofSD0xoF"
   },
   "source": [
    "# PyTorch: Autoencoder convolucional Fashion-MNIST\n",
    "\n",
    "## Refs.\n",
    "\n",
    "* https://pytorch.org/tutorials/beginner/basics/optimization_tutorial.html\n",
    "\n",
    "* https://github.com/zalandoresearch/fashion-mnist\n",
    "\n",
    "* https://github.com/pranay414/Fashion-MNIST-Pytorch/blob/master/fashion_mnist.ipynb\n",
    "\n",
    "## **Ejercicio 1)** Importando librerías\n",
    "\n",
    "**0)** De ser necesario, **instale PyTorch** escribiendo\n",
    "\n",
    "    !pip3 install torch torchvision torchaudio torchviz\n",
    "\n",
    "**1)** Importe las librerías estandard de Python: `os`, `datetime`, `collections` y `pickle`.\n",
    "\n",
    "**2)** Importe las siguientes librerías third party de Python: `matplotlib.pyplot`, `numpy`, `scipy`, `sklearn`, `pandas`, `dill` y `json`.\n",
    "\n",
    "**3)** Importe las librerias necesarias de **PyTorch**: `torch` y `torchvision`.\n",
    "\n",
    "**4)** Importe la librería: `google.colab`."
   ]
  },
  {
   "cell_type": "code",
   "execution_count": 1,
   "metadata": {
    "id": "Jg3VSqHCGSub"
   },
   "outputs": [],
   "source": [
    "# 1.0)\n",
    "#!pip3 install torch torchvision torchaudio torchviz"
   ]
  },
  {
   "cell_type": "code",
   "execution_count": 2,
   "metadata": {
    "id": "I8N3D_nU1_oT"
   },
   "outputs": [],
   "source": [
    "# 1.1)\n",
    "import os\n",
    "import pickle\n",
    "import datetime\n",
    "from collections import defaultdict"
   ]
  },
  {
   "cell_type": "code",
   "execution_count": 3,
   "metadata": {
    "id": "QsfFvPYhkCGl"
   },
   "outputs": [],
   "source": [
    "# 1.2)\n",
    "import matplotlib.pyplot as plt\n",
    "from matplotlib import cm\n",
    "import numpy as np\n",
    "import scipy as sp\n",
    "import scipy.linalg as linalg\n",
    "import sklearn as skl\n",
    "import pandas as pd\n",
    "#import dill\n",
    "import json"
   ]
  },
  {
   "cell_type": "code",
   "execution_count": 4,
   "metadata": {
    "id": "Uot5sVNnkCNa"
   },
   "outputs": [],
   "source": [
    "# 1.3)\n",
    "import torch\n",
    "import torch.optim as optim\n",
    "from torch import nn\n",
    "from torch.nn import functional as F\n",
    "from torch.utils.data import Dataset, DataLoader, Subset, random_split\n",
    "from torchvision import datasets\n",
    "from torchvision import transforms\n",
    "from torchvision.io import read_image\n",
    "from torchvision.transforms import ToTensor, Lambda, Compose\n",
    "#from torchviz import make_dot"
   ]
  },
  {
   "cell_type": "code",
   "execution_count": 5,
   "metadata": {
    "id": "rVCiYt-1kCUi"
   },
   "outputs": [],
   "source": [
    "# 1.4)\n",
    "#import google.colab\n",
    "#from google.colab import files"
   ]
  },
  {
   "cell_type": "code",
   "execution_count": 6,
   "metadata": {
    "id": "oUFvWw_kr7Bt"
   },
   "outputs": [
    {
     "data": {
      "text/plain": [
       "'cpu'"
      ]
     },
     "execution_count": 6,
     "metadata": {},
     "output_type": "execute_result"
    }
   ],
   "source": [
    "device = 'cuda' if torch.cuda.is_available() else 'cpu'\n",
    "device"
   ]
  },
  {
   "cell_type": "markdown",
   "metadata": {
    "id": "NcaGEHAd10sb"
   },
   "source": [
    "## **Ejercicio 2)**\n",
    "\n",
    "Bajando y Jugando con el dataset **Fashion-MNIST**.\n",
    "\n",
    "**1)** Baje y transforme los conjuntos de entrenamiento y testeo de FashionMNIST.\n",
    "\n",
    "**2)** Grafique un mosaico de 3x3 imagenes de FashionMNIST, cada una titulada con su respectiva clasificación"
   ]
  },
  {
   "cell_type": "code",
   "execution_count": 7,
   "metadata": {
    "id": "NUoQ9bnwaZ7O"
   },
   "outputs": [
    {
     "name": "stdout",
     "output_type": "stream",
     "text": [
      "Downloading http://fashion-mnist.s3-website.eu-central-1.amazonaws.com/train-images-idx3-ubyte.gz\n",
      "Downloading http://fashion-mnist.s3-website.eu-central-1.amazonaws.com/train-images-idx3-ubyte.gz to MNIST_data/FashionMNIST\\raw\\train-images-idx3-ubyte.gz\n"
     ]
    },
    {
     "name": "stderr",
     "output_type": "stream",
     "text": [
      "100%|██████████| 26421880/26421880 [00:07<00:00, 3368267.92it/s]\n"
     ]
    },
    {
     "name": "stdout",
     "output_type": "stream",
     "text": [
      "Extracting MNIST_data/FashionMNIST\\raw\\train-images-idx3-ubyte.gz to MNIST_data/FashionMNIST\\raw\n",
      "\n",
      "Downloading http://fashion-mnist.s3-website.eu-central-1.amazonaws.com/train-labels-idx1-ubyte.gz\n",
      "Downloading http://fashion-mnist.s3-website.eu-central-1.amazonaws.com/train-labels-idx1-ubyte.gz to MNIST_data/FashionMNIST\\raw\\train-labels-idx1-ubyte.gz\n"
     ]
    },
    {
     "name": "stderr",
     "output_type": "stream",
     "text": [
      "100%|██████████| 29515/29515 [00:00<00:00, 124266.97it/s]\n"
     ]
    },
    {
     "name": "stdout",
     "output_type": "stream",
     "text": [
      "Extracting MNIST_data/FashionMNIST\\raw\\train-labels-idx1-ubyte.gz to MNIST_data/FashionMNIST\\raw\n",
      "\n",
      "Downloading http://fashion-mnist.s3-website.eu-central-1.amazonaws.com/t10k-images-idx3-ubyte.gz\n",
      "Downloading http://fashion-mnist.s3-website.eu-central-1.amazonaws.com/t10k-images-idx3-ubyte.gz to MNIST_data/FashionMNIST\\raw\\t10k-images-idx3-ubyte.gz\n"
     ]
    },
    {
     "name": "stderr",
     "output_type": "stream",
     "text": [
      "100%|██████████| 4422102/4422102 [00:02<00:00, 1985178.10it/s]\n"
     ]
    },
    {
     "name": "stdout",
     "output_type": "stream",
     "text": [
      "Extracting MNIST_data/FashionMNIST\\raw\\t10k-images-idx3-ubyte.gz to MNIST_data/FashionMNIST\\raw\n",
      "\n",
      "Downloading http://fashion-mnist.s3-website.eu-central-1.amazonaws.com/t10k-labels-idx1-ubyte.gz\n",
      "Downloading http://fashion-mnist.s3-website.eu-central-1.amazonaws.com/t10k-labels-idx1-ubyte.gz to MNIST_data/FashionMNIST\\raw\\t10k-labels-idx1-ubyte.gz\n"
     ]
    },
    {
     "name": "stderr",
     "output_type": "stream",
     "text": [
      "100%|██████████| 5148/5148 [00:00<?, ?it/s]"
     ]
    },
    {
     "name": "stdout",
     "output_type": "stream",
     "text": [
      "Extracting MNIST_data/FashionMNIST\\raw\\t10k-labels-idx1-ubyte.gz to MNIST_data/FashionMNIST\\raw\n",
      "\n"
     ]
    },
    {
     "name": "stderr",
     "output_type": "stream",
     "text": [
      "\n"
     ]
    }
   ],
   "source": [
    "# 2.1)\n",
    "# Define a transform to normalize the data\n",
    "transform = transforms.Compose([transforms.ToTensor(),transforms.Normalize((0.5,), (0.5,))])\n",
    "\n",
    "# Download and load the training data\n",
    "train_set_orig = datasets.FashionMNIST('MNIST_data/', download = True, train = True,  transform = transform)\n",
    "valid_set_orig = datasets.FashionMNIST('MNIST_data/', download = True, train = False, transform = transform)"
   ]
  },
  {
   "cell_type": "code",
   "execution_count": 8,
   "metadata": {
    "id": "-wJdl9mKx5EC"
   },
   "outputs": [
    {
     "data": {
      "image/png": "[encoded data removed]",
      "text/plain": [
       "<Figure size 640x480 with 9 Axes>"
      ]
     },
     "metadata": {},
     "output_type": "display_data"
    }
   ],
   "source": [
    "# 2.2)\n",
    "figure = plt.figure()\n",
    "cols,rows = 3,3\n",
    "for i in range(1,cols*rows+1):\n",
    "    j = torch.randint(len(train_set_orig),size=(1,)).item() # Los números aleatorios tambien se pueden generar desde pytorch. Util para trabajar en la GPU.\n",
    "    image,label = train_set_orig[j]\n",
    "    figure.add_subplot(rows,cols,i)\n",
    "    #plt.title(labels_names[label])\n",
    "    plt.axis(\"off\")\n",
    "    plt.imshow(image.squeeze(),cmap=\"Greys_r\")\n",
    "plt.show()"
   ]
  },
  {
   "cell_type": "markdown",
   "metadata": {
    "id": "1OWYnfxWz8RS"
   },
   "source": [
    "## Ejercicio 3) Creando un `DataSet` personalizado.\n",
    "\n",
    "**1)** Con el fin de implementar un autoencoder, cree una clase derivada de la clase `DataSet` (llámela, por ejemplo `CustomDataset`) que, en vez de retornal el label asociado a cada imagen de `FashionMNIST`, retorne la imagen misma.\n",
    "\n",
    "**2)** Utilice dicha clase para transformar los conjuntos de entrenamiento y testeo de `FashionMNIST` pensados para clasificación, a correspondientes conjuntos pensados para entrenar un autoencoder.\n",
    "Para ello, defina una clase `CustomDataset` que deriva de la clase `Dataset`, cuyo método `__getitem__(self,i)` retorne el pair `input,output` donde tanto `input` cómo `output` son iguales a la $i$-ésima imagen del dataset."
   ]
  },
  {
   "cell_type": "code",
   "execution_count": null,
   "metadata": {
    "id": "sPjO1_Av1f87"
   },
   "outputs": [],
   "source": [
    "# 3.1)\n",
    "\n",
    "class CustomDataset(Dataset):\n",
    "    def __init__(self, dataset):\n",
    "        self.dataset = dataset\n",
    "\n",
    "    def __len__(self):\n",
    "        return len(self.dataset)\n",
    "\n",
    "    def __getitem__(self, index):\n",
    "        # Originalmente, retorna imagen y etiqueta\n",
    "        image, label = self.dataset[index] \n",
    "\n",
    "        # Modificamos el dataset para que retorne solo la imagen\n",
    "        input = image\n",
    "        output = image\n",
    "        return input, output "
   ]
  },
  {
   "cell_type": "code",
   "execution_count": null,
   "metadata": {},
   "outputs": [],
   "source": [
    "# 3.2)\n",
    "\n",
    "train_set = CustomDataset(train_set_orig)\n",
    "valid_set = CustomDataset(valid_set_orig)"
   ]
  },
  {
   "cell_type": "markdown",
   "metadata": {
    "id": "REToccG127zI"
   },
   "source": [
    "## Ejercicio 4) Red Neuronal Autoencoder Convolucional\n",
    "\n",
    "**1)** Defina y cree una red neuronal *autoenconder convolucional* constituida por las siguientes capas:\n",
    "\n",
    "1. Una capa convolucional 2D constituida por:\n",
    "\n",
    "* Una capa `Conv2d` (ver https://pytorch.org/docs/stable/generated/torch.nn.Conv2d.html) que deberá mapear $1$ canal de entradas de dimensiones $(28,28)$ a $16$ canales de de salida de dimensiones $(26,26)$. Para ello utilice un kernel de dimensiones $(3,3)$ y el resto de los parámetros en sus valores por defecto.\n",
    "* Una capa `ReLU`.\n",
    "* Una capa `Dropout`.\n",
    "* Una capa `MaxPool` (ver https://pytorch.org/docs/stable/generated/torch.nn.MaxPool2d.html) con un kernel de dimensiones $(2,2)$, de manera que mapeará entradas de dimensiones $(26,26)$ a salidas de dimensiones $(13,13)$.\n",
    "\n",
    "2. Una capa lineal constituida por:\n",
    "\n",
    "* Una capa `Flatten` que mapea una entrada de $16$ canales de dimensiones $(13,13)$ a un vector de dimensión $16\\times 13\\times 13$.\n",
    "* Una capa `Linear` que mapea un vector de dimensión $16\\times 13\\times 13$ a un vector de dimensión $n$.\n",
    "* Una capa `ReLU`.\n",
    "* Una capa `Dropout`.\n",
    "\n",
    "3. Una capa capa convolucional 2D transpuesta, constituida por:\n",
    "\n",
    "* una capa `ConvTranspose2d` (ver https://pytorch.org/docs/stable/generated/torch.nn.ConvTranspose2d.html) que mapea $16$ canales de dimensiones $(13,13)$ a $1$ canal de dimensiones $(28,28)$. Para ello, utilice un kernel de dimensiones $(6,6)$ y un stride de dimensiones $(2,2)$, dejando el resto de los parámetros en sus valores por defecto, i.e. padding de $(1,1)$ y out_padding de $(0,0)$.\n",
    "\n",
    "* Una capa `Sigmoid`.\n",
    "\n",
    "**3)** Grafique, a modo de comparación, unas pocas imagenes a predecir vs las correspondientes imagenes predichas utilizando el modelo sin entrenar y dropout $p=0.2$."
   ]
  },
  {
   "cell_type": "code",
   "execution_count": null,
   "metadata": {
    "id": "qSJqCozXCEq1"
   },
   "outputs": [],
   "source": [
    "# 4.1)\n",
    "\n",
    "# Calcula el tamaño de salida de una capa convolucional transpuerta\n",
    "def convt2d_out(z_in, stride, padding, dilation, kernel_size, output_padding):\n",
    "    z_out = (z_in-1)*stride - 2*padding + dilation*(kernel_size-1) + output_padding + 1\n",
    "    return z_out"
   ]
  },
  {
   "cell_type": "code",
   "execution_count": 14,
   "metadata": {},
   "outputs": [
    {
     "data": {
      "text/plain": [
       "28"
      ]
     },
     "execution_count": 14,
     "metadata": {},
     "output_type": "execute_result"
    }
   ],
   "source": [
    "convt2d_out(13, 2, 1, 1, 6, 0)"
   ]
  },
  {
   "cell_type": "code",
   "execution_count": 17,
   "metadata": {},
   "outputs": [],
   "source": [
    "class AutoEncoder(nn.Module):\n",
    "    def __init__(self, p=0.2):\n",
    "        super(AutoEncoder, self).__init__()\n",
    "        self.flatten = nn.Flatten()\n",
    "\n",
    "        # Encoder\n",
    "        self.conv2d = nn.Sequential(\n",
    "\n",
    "            # 1 canal de 28x28 a 16 canales de 26x26. Este tamaño se debe al kernel y padding=0\n",
    "            nn.Conv2d(1, 16, kernel_size=3, padding=0),\n",
    "            nn.ReLU(),\n",
    "            nn.Dropout(p),\n",
    "            # Salida se reduce a la mitad, es decir, 13x13\n",
    "            nn.MaxPool2d(kernel_size=2, stride=2),\n",
    "        )\n",
    "\n",
    "        # Linear\n",
    "        self.linear = nn.Sequential(\n",
    "            nn.Flatten(),\n",
    "            nn.Linear(16*13*13, 16*13*13 ),\n",
    "            nn.ReLU(),\n",
    "            nn.Dropout(p),\n",
    "        )\n",
    "        \n",
    "        # Decoder\n",
    "        self.convt2d = nn.Sequential(\n",
    "            nn.Unflatten(1, (16,13,13)),\n",
    "            nn.ConvTranspose2d(16, 1, kernel_size=6, stride=2, padding=1),\n",
    "            nn.Sigmoid(),\n",
    "        )\n",
    "\n",
    "    def forward(self, x):\n",
    "        x = self.conv2d(x) # Encoder\n",
    "        x = self.linear(x)\n",
    "        x = self.convt2d(x) # Decoder \n",
    "        return x"
   ]
  },
  {
   "cell_type": "code",
   "execution_count": 18,
   "metadata": {},
   "outputs": [],
   "source": [
    "p = 0.2\n",
    "model = AutoEncoder(p=p)"
   ]
  },
  {
   "cell_type": "code",
   "execution_count": null,
   "metadata": {},
   "outputs": [
    {
     "name": "stdout",
     "output_type": "stream",
     "text": [
      "Input size: torch.Size([1, 1, 28, 28])\n",
      "Output size: torch.Size([1, 1, 28, 28])\n"
     ]
    }
   ],
   "source": [
    "# Prueba\n",
    "\n",
    "image = torch.randn(1,1,28,28) # Batch, canal, size\n",
    "output = model(image)\n",
    "print(f'Input size: {image.shape}')\n",
    "print(f'Output size: {output.shape}')"
   ]
  },
  {
   "cell_type": "code",
   "execution_count": 20,
   "metadata": {},
   "outputs": [],
   "source": [
    "def batch(x):\n",
    "    return x.unsqueeze(0) # (28, 28) -> (1, 28, 28)\n",
    "\n",
    "def unbatch(x):\n",
    "    return x.squeeze().detach().cpu().numpy() # (1, 28, 28) -> (28, 28)"
   ]
  },
  {
   "cell_type": "code",
   "execution_count": 22,
   "metadata": {},
   "outputs": [
    {
     "data": {
      "image/png": "[encoded data removed]",
      "text/plain": [
       "<Figure size 640x480 with 6 Axes>"
      ]
     },
     "metadata": {},
     "output_type": "display_data"
    }
   ],
   "source": [
    "# Prueba del modelo sin entrenar\n",
    "\n",
    "figure = plt.figure()\n",
    "rows,cols = 3,2\n",
    "\n",
    "i = 0\n",
    "\n",
    "for row in range(1, rows+1):\n",
    "    j = torch.randint(len(train_set),size=(1,)).item() # Los números aleatorios tambien se pueden generar desde pytorch. Util para trabajar en la GPU.  \n",
    "    i += 1\n",
    "    image, _ = train_set[j]\n",
    "    figure.add_subplot(rows, cols, i)\n",
    "\n",
    "    if row == 1:\n",
    "        plt.title('Original')\n",
    "    plt.axis('off')\n",
    "\n",
    "    plt.imshow(unbatch(image), cmap='Greys_r')\n",
    "\n",
    "    i += 1\n",
    "    figure.add_subplot(rows, cols, i)\n",
    "\n",
    "    if row ==1:\n",
    "        plt.title('Predicción')\n",
    "    plt.axis('off')\n",
    "    image_pred = unbatch(model(batch(image)))\n",
    "    plt.imshow(image_pred, cmap='Greys_r')\n",
    "\n",
    "plt.show()"
   ]
  },
  {
   "cell_type": "markdown",
   "metadata": {},
   "source": [
    "Sin entrenar solo genera ruido"
   ]
  },
  {
   "cell_type": "markdown",
   "metadata": {
    "id": "A9uINlg69OTw"
   },
   "source": [
    "## Ejercicio 5) Entrenando el modelo\n",
    "\n",
    "**1)** Implemente, en una función, un loop de entrenamiento que recorra los batchs (lotes).\n",
    "\n",
    "**2)** Implemente, en una función, un loop de prueba o validación que recorra los batchs.\n",
    "\n",
    "**3)** Inicialize dos `DataLoader`s llamados `train_loader` y `valid_loader` que estén definidos sobre  el `train_set` (conjunto de entranmiento) y el `valid_set` (conjunto de prueba) de Fashion-MNIST, respectivamente, y que usen batchs de 100 ejemplos.\n",
    "\n",
    "**4)** Cree una función de pérdida usando el **Error Cuadrático Medio**.\n",
    "\n",
    "**5)** Cree un optimizador con un learning rate igual a $10^{-3}$.\n",
    "Pruebe con **ADAM**.\n",
    "\n",
    "**6)** Cree una instancia del modelo con dropout $p=0.2$.\n",
    "\n",
    "**7)** Especifique en que dispositivo (`device`) va a trabajar: en una **CPU** o en una **GPU**.\n",
    "\n",
    "**8)** Implemente un loop que itere sobre épocas de entrenamiento y validación, y que guarde en listas correspondientes los siguientes valores del **ECM**:\n",
    "*  promedios (incorrectos) sobre el conjunto de entrenamiento, calculado **durante** el proceso de entrenamiento sobre la época.\n",
    "*  promedios (correctos) sobre el conjunto de entrenamiento, calculados **posteriormente** al proceso de entrenamiento sobre la época.\n",
    "*  promedios (correctos) sobre el conjunto de validación, calculados **posteriormente** al proceso de entrenamiento sobre la época.\n",
    "\n",
    "**IMPORTANTE:** No olvide copiar los batchs al dispositivo de trabajo.\n",
    "\n",
    "**9)** Entrene y valide el modelo.\n",
    "\n",
    "**10)** Use las listas del inciso **8)** para graficar en función de las **épocas de entrenamiento** el **ECM** de **entrenamiento** y **validación**, respectivamente.\n",
    "Discuta y comente, cual es el número óptimo de épocas de entrenamiento?\n",
    "\n",
    "**11)** Grafique, comparativamente, algunas de las imagenes a predecir vs las imagenes predichas por el modelo entrenado.\n",
    "\n",
    "**12)** Repita para otras elecciones de los hiperparámetros tales como, el optimizador (podría ser el **SGD**), el **learning-rate**, el tamaño de los **batchs**, el **dropout**, **capas convolucionales** y **convolucionales traspuestas** de otros tamaños.\n",
    "En particular, pruebe eliminando, adecuadamente, la **capa lineal**.\n",
    "Que valores de estos hiperparámetros considera los más convenientes? Porqué?"
   ]
  },
  {
   "cell_type": "code",
   "execution_count": 23,
   "metadata": {
    "id": "hyuXv-0x29Xw"
   },
   "outputs": [],
   "source": [
    "# 5.1)\n",
    "\n",
    "def train_loop(dataloader, model, loss_fn, optimizer, verbose=True):\n",
    "    model.train()\n",
    "\n",
    "    num_samples = len(dataloader.dataset)\n",
    "    num_batches = len(dataloader)\n",
    "\n",
    "    sum_batch_avrg_loss = 0\n",
    "    num_processed_samples = 0\n",
    "\n",
    "    model = model.to(device)\n",
    "\n",
    "    for batch, (X, y) in enumerate(dataloader):\n",
    "        X = X.to(device)\n",
    "        y = y.to(device)\n",
    "\n",
    "        batch_size = len(X)\n",
    "        num_processed_samples += batch_size\t\n",
    "\n",
    "        pred = model(X)\n",
    "        loss = loss_fn(pred, y)\n",
    "\n",
    "        optimizer.zero_grad()\n",
    "        loss.backward()\n",
    "        optimizer.step()\n",
    "\n",
    "        batch_avrg_loss = loss.item()\n",
    "        sum_batch_avrg_loss += batch_avrg_loss\n",
    "\n",
    "        if batch % (num_batches/10) == 0 and verbose:\n",
    "            current = batch*len(X)\n",
    "            print(f'Batch {batch:>5d} | Loss: {batch_avrg_loss:.6f} | Processed: {100 * num_processed_samples / num_samples:.2f}%')\n",
    "\n",
    "    avrg_loss = sum_batch_avrg_loss / num_batches\n",
    "    return avrg_loss"
   ]
  },
  {
   "cell_type": "code",
   "execution_count": 24,
   "metadata": {},
   "outputs": [],
   "source": [
    "def eval_loop(dataloader, model, loss_fn):\n",
    "    model.eval()\n",
    "\n",
    "    num_samples = len(dataloader.dataset)\n",
    "    num_batches = len(dataloader)\n",
    "\n",
    "    sum_batch_avrg_loss = 0\n",
    "    num_processed_samples = 0\n",
    "\n",
    "    model = model.to(device)\n",
    "\n",
    "    with torch.no_grad():\n",
    "        for X, y in dataloader:\n",
    "            X = X.to(device)\n",
    "            y = y.to(device)\n",
    "\n",
    "            batch_size = len(X)\n",
    "            num_processed_samples += batch_size\n",
    "\n",
    "            pred = model(X)\n",
    "            loss = loss_fn(pred, y)\n",
    "\n",
    "            batch_avrg_loss = loss.item()\n",
    "            sum_batch_avrg_loss += batch_avrg_loss\n",
    "\n",
    "    avrg_loss = sum_batch_avrg_loss / num_batches\n",
    "\n",
    "    return avrg_loss"
   ]
  },
  {
   "cell_type": "code",
   "execution_count": 25,
   "metadata": {},
   "outputs": [
    {
     "name": "stdout",
     "output_type": "stream",
     "text": [
      "num_train_batches:  600\n",
      "num_valid_batches:  100\n"
     ]
    }
   ],
   "source": [
    "# 5.3\n",
    "\n",
    "batch_size = 100\n",
    "train_loader = DataLoader(train_set, batch_size = batch_size, shuffle=True)\n",
    "valid_loader = DataLoader(valid_set, batch_size = batch_size, shuffle=True)\n",
    "\n",
    "num_train_batches = len(train_loader)\n",
    "num_valid_batches = len(valid_loader)\n",
    "print('num_train_batches: ', num_train_batches)\n",
    "print('num_valid_batches: ', num_valid_batches)"
   ]
  },
  {
   "cell_type": "code",
   "execution_count": 26,
   "metadata": {},
   "outputs": [],
   "source": [
    "# 5.4)\n",
    "\n",
    "loss_fn = nn.MSELoss()"
   ]
  },
  {
   "cell_type": "code",
   "execution_count": 28,
   "metadata": {},
   "outputs": [],
   "source": [
    "# 5.5)\n",
    "\n",
    "learning_rate = 1e-3\n",
    "optimizer = torch.optim.Adam(model.parameters(), lr=learning_rate, eps=1e-8, weight_decay=0, amsgrad=False)"
   ]
  },
  {
   "cell_type": "code",
   "execution_count": 29,
   "metadata": {},
   "outputs": [],
   "source": [
    "# 5.6) \n",
    "\n",
    "device = torch.device('cuda' if torch.cuda.is_available() else 'cpu')\n",
    "model = model.to(device)"
   ]
  },
  {
   "cell_type": "code",
   "execution_count": 30,
   "metadata": {},
   "outputs": [
    {
     "name": "stdout",
     "output_type": "stream",
     "text": [
      "Epoch 1\\n--------------------\n",
      "Batch     0 | Loss: 1.376715 | Processed: 0.17%\n",
      "Batch    60 | Loss: 0.648532 | Processed: 10.17%\n",
      "Batch   120 | Loss: 0.613248 | Processed: 20.17%\n",
      "Batch   180 | Loss: 0.643015 | Processed: 30.17%\n",
      "Batch   240 | Loss: 0.625092 | Processed: 40.17%\n",
      "Batch   300 | Loss: 0.603118 | Processed: 50.17%\n",
      "Batch   360 | Loss: 0.618988 | Processed: 60.17%\n",
      "Batch   420 | Loss: 0.617790 | Processed: 70.17%\n",
      "Batch   480 | Loss: 0.609056 | Processed: 80.17%\n",
      "Batch   540 | Loss: 0.588802 | Processed: 90.17%\n",
      "avg_train_loss_incorrecta:  0.6198131875197093\n",
      "avg_train_loss:  0.5914393475651741\n",
      "avg_valid_loss:  0.5891594702005386\n",
      "Epoch 2\\n--------------------\n",
      "Batch     0 | Loss: 0.572178 | Processed: 0.17%\n",
      "Batch    60 | Loss: 0.584681 | Processed: 10.17%\n",
      "Batch   120 | Loss: 0.595850 | Processed: 20.17%\n",
      "Batch   180 | Loss: 0.564648 | Processed: 30.17%\n",
      "Batch   240 | Loss: 0.585418 | Processed: 40.17%\n",
      "Batch   300 | Loss: 0.595675 | Processed: 50.17%\n",
      "Batch   360 | Loss: 0.594549 | Processed: 60.17%\n",
      "Batch   420 | Loss: 0.605736 | Processed: 70.17%\n",
      "Batch   480 | Loss: 0.591008 | Processed: 80.17%\n",
      "Batch   540 | Loss: 0.585086 | Processed: 90.17%\n",
      "avg_train_loss_incorrecta:  0.590810265938441\n",
      "avg_train_loss:  0.5844567995270094\n",
      "avg_valid_loss:  0.5822376251220703\n",
      "Epoch 3\\n--------------------\n",
      "Batch     0 | Loss: 0.586248 | Processed: 0.17%\n",
      "Batch    60 | Loss: 0.599939 | Processed: 10.17%\n",
      "Batch   120 | Loss: 0.558834 | Processed: 20.17%\n",
      "Batch   180 | Loss: 0.584007 | Processed: 30.17%\n",
      "Batch   240 | Loss: 0.574208 | Processed: 40.17%\n",
      "Batch   300 | Loss: 0.597788 | Processed: 50.17%\n",
      "Batch   360 | Loss: 0.582557 | Processed: 60.17%\n",
      "Batch   420 | Loss: 0.614487 | Processed: 70.17%\n",
      "Batch   480 | Loss: 0.569600 | Processed: 80.17%\n",
      "Batch   540 | Loss: 0.578739 | Processed: 90.17%\n",
      "avg_train_loss_incorrecta:  0.5862403173247973\n",
      "avg_train_loss:  0.5817588936289152\n",
      "avg_valid_loss:  0.5795576328039169\n",
      "Epoch 4\\n--------------------\n",
      "Batch     0 | Loss: 0.593037 | Processed: 0.17%\n",
      "Batch    60 | Loss: 0.594651 | Processed: 10.17%\n",
      "Batch   120 | Loss: 0.598564 | Processed: 20.17%\n",
      "Batch   180 | Loss: 0.565613 | Processed: 30.17%\n",
      "Batch   240 | Loss: 0.600421 | Processed: 40.17%\n",
      "Batch   300 | Loss: 0.609435 | Processed: 50.17%\n",
      "Batch   360 | Loss: 0.576839 | Processed: 60.17%\n",
      "Batch   420 | Loss: 0.562035 | Processed: 70.17%\n",
      "Batch   480 | Loss: 0.590839 | Processed: 80.17%\n",
      "Batch   540 | Loss: 0.577287 | Processed: 90.17%\n",
      "avg_train_loss_incorrecta:  0.5843611092368761\n",
      "avg_train_loss:  0.580646895468235\n",
      "avg_valid_loss:  0.5784687232971192\n",
      "Epoch 5\\n--------------------\n",
      "Batch     0 | Loss: 0.602759 | Processed: 0.17%\n",
      "Batch    60 | Loss: 0.602791 | Processed: 10.17%\n",
      "Batch   120 | Loss: 0.612334 | Processed: 20.17%\n",
      "Batch   180 | Loss: 0.567248 | Processed: 30.17%\n",
      "Batch   240 | Loss: 0.575304 | Processed: 40.17%\n",
      "Batch   300 | Loss: 0.597769 | Processed: 50.17%\n",
      "Batch   360 | Loss: 0.573995 | Processed: 60.17%\n",
      "Batch   420 | Loss: 0.566571 | Processed: 70.17%\n",
      "Batch   480 | Loss: 0.573515 | Processed: 80.17%\n",
      "Batch   540 | Loss: 0.587006 | Processed: 90.17%\n",
      "avg_train_loss_incorrecta:  0.5833355058232943\n",
      "avg_train_loss:  0.5797964956363042\n",
      "avg_valid_loss:  0.5776430052518845\n",
      "Epoch 6\\n--------------------\n",
      "Batch     0 | Loss: 0.581788 | Processed: 0.17%\n",
      "Batch    60 | Loss: 0.588944 | Processed: 10.17%\n",
      "Batch   120 | Loss: 0.592194 | Processed: 20.17%\n",
      "Batch   180 | Loss: 0.573068 | Processed: 30.17%\n",
      "Batch   240 | Loss: 0.591621 | Processed: 40.17%\n",
      "Batch   300 | Loss: 0.609640 | Processed: 50.17%\n",
      "Batch   360 | Loss: 0.599166 | Processed: 60.17%\n",
      "Batch   420 | Loss: 0.568566 | Processed: 70.17%\n",
      "Batch   480 | Loss: 0.593160 | Processed: 80.17%\n",
      "Batch   540 | Loss: 0.584868 | Processed: 90.17%\n",
      "avg_train_loss_incorrecta:  0.5826244346300761\n",
      "avg_train_loss:  0.579343887368838\n",
      "avg_valid_loss:  0.5772072380781174\n",
      "Epoch 7\\n--------------------\n",
      "Batch     0 | Loss: 0.575987 | Processed: 0.17%\n",
      "Batch    60 | Loss: 0.594130 | Processed: 10.17%\n",
      "Batch   120 | Loss: 0.597616 | Processed: 20.17%\n",
      "Batch   180 | Loss: 0.590779 | Processed: 30.17%\n",
      "Batch   240 | Loss: 0.601041 | Processed: 40.17%\n",
      "Batch   300 | Loss: 0.557827 | Processed: 50.17%\n",
      "Batch   360 | Loss: 0.573351 | Processed: 60.17%\n",
      "Batch   420 | Loss: 0.585182 | Processed: 70.17%\n",
      "Batch   480 | Loss: 0.580055 | Processed: 80.17%\n",
      "Batch   540 | Loss: 0.575408 | Processed: 90.17%\n",
      "avg_train_loss_incorrecta:  0.5820758041739463\n",
      "avg_train_loss:  0.578828559021155\n",
      "avg_valid_loss:  0.5767004019021988\n",
      "Epoch 8\\n--------------------\n",
      "Batch     0 | Loss: 0.576831 | Processed: 0.17%\n",
      "Batch    60 | Loss: 0.558689 | Processed: 10.17%\n",
      "Batch   120 | Loss: 0.590436 | Processed: 20.17%\n",
      "Batch   180 | Loss: 0.589093 | Processed: 30.17%\n",
      "Batch   240 | Loss: 0.581207 | Processed: 40.17%\n",
      "Batch   300 | Loss: 0.575746 | Processed: 50.17%\n",
      "Batch   360 | Loss: 0.577064 | Processed: 60.17%\n",
      "Batch   420 | Loss: 0.585190 | Processed: 70.17%\n",
      "Batch   480 | Loss: 0.584616 | Processed: 80.17%\n",
      "Batch   540 | Loss: 0.553755 | Processed: 90.17%\n",
      "avg_train_loss_incorrecta:  0.5816461432973544\n",
      "avg_train_loss:  0.5783274510502815\n",
      "avg_valid_loss:  0.57622405230999\n",
      "Epoch 9\\n--------------------\n",
      "Batch     0 | Loss: 0.589688 | Processed: 0.17%\n",
      "Batch    60 | Loss: 0.588718 | Processed: 10.17%\n",
      "Batch   120 | Loss: 0.603855 | Processed: 20.17%\n",
      "Batch   180 | Loss: 0.557950 | Processed: 30.17%\n",
      "Batch   240 | Loss: 0.566251 | Processed: 40.17%\n",
      "Batch   300 | Loss: 0.574089 | Processed: 50.17%\n",
      "Batch   360 | Loss: 0.576438 | Processed: 60.17%\n",
      "Batch   420 | Loss: 0.590491 | Processed: 70.17%\n",
      "Batch   480 | Loss: 0.556906 | Processed: 80.17%\n",
      "Batch   540 | Loss: 0.580680 | Processed: 90.17%\n",
      "avg_train_loss_incorrecta:  0.5812745807568233\n",
      "avg_train_loss:  0.578130730787913\n",
      "avg_valid_loss:  0.5760499960184098\n",
      "Epoch 10\\n--------------------\n",
      "Batch     0 | Loss: 0.580604 | Processed: 0.17%\n",
      "Batch    60 | Loss: 0.575716 | Processed: 10.17%\n",
      "Batch   120 | Loss: 0.585786 | Processed: 20.17%\n",
      "Batch   180 | Loss: 0.558663 | Processed: 30.17%\n",
      "Batch   240 | Loss: 0.580993 | Processed: 40.17%\n",
      "Batch   300 | Loss: 0.589252 | Processed: 50.17%\n",
      "Batch   360 | Loss: 0.557029 | Processed: 60.17%\n",
      "Batch   420 | Loss: 0.575639 | Processed: 70.17%\n",
      "Batch   480 | Loss: 0.572538 | Processed: 80.17%\n",
      "Batch   540 | Loss: 0.584937 | Processed: 90.17%\n",
      "avg_train_loss_incorrecta:  0.5809818073113759\n",
      "avg_train_loss:  0.5776813313364982\n",
      "avg_valid_loss:  0.5756066185235977\n",
      "Listo\n"
     ]
    }
   ],
   "source": [
    "# 5.8)\n",
    "\n",
    "num_epochs = 10\n",
    "list_avg_train_loss_incorrecta = []\n",
    "list_avg_train_loss = []\n",
    "list_avg_valid_loss = []\n",
    "\n",
    "for epoch in range(num_epochs):\n",
    "    print(f'Epoch {epoch+1}\\\\n' + '-' * 20)\n",
    "    avg_train_loss_incorrecta = train_loop(train_loader, model, loss_fn, optimizer)\n",
    "    avg_train_loss = eval_loop(train_loader, model, loss_fn)\n",
    "    avg_valid_loss = eval_loop(valid_loader, model, loss_fn)\n",
    "\n",
    "    list_avg_train_loss_incorrecta.append(avg_train_loss_incorrecta)\n",
    "    list_avg_train_loss.append(avg_train_loss)\n",
    "    list_avg_valid_loss.append(avg_valid_loss)  \n",
    "\n",
    "    print('avg_train_loss_incorrecta: ', avg_train_loss_incorrecta)\n",
    "    print('avg_train_loss: ', avg_train_loss)\n",
    "    print('avg_valid_loss: ', avg_valid_loss)\n",
    "\n",
    "print('Listo')"
   ]
  },
  {
   "cell_type": "code",
   "execution_count": 31,
   "metadata": {},
   "outputs": [
    {
     "data": {
      "image/png": "[encoded data removed]",
      "text/plain": [
       "<Figure size 640x480 with 1 Axes>"
      ]
     },
     "metadata": {},
     "output_type": "display_data"
    }
   ],
   "source": [
    "# 5.10)\n",
    "\n",
    "plt.xlabel('Epoch')\n",
    "plt.ylabel('Loss')\n",
    "\n",
    "plt.plot(list(range(1, len(list_avg_train_loss_incorrecta)+1)), list_avg_train_loss, label='Train Incorrectas')\n",
    "plt.plot(list(range(1, len(list_avg_train_loss)+1)), list_avg_valid_loss, label='Train')\n",
    "plt.plot(list(range(1, len(list_avg_valid_loss)+1)), list_avg_valid_loss, label='Valid')\n",
    "\n",
    "plt.legend()\n",
    "plt.show()"
   ]
  },
  {
   "cell_type": "code",
   "execution_count": 41,
   "metadata": {},
   "outputs": [
    {
     "data": {
      "image/png": "[encoded data removed]",
      "text/plain": [
       "<Figure size 640x480 with 6 Axes>"
      ]
     },
     "metadata": {},
     "output_type": "display_data"
    }
   ],
   "source": [
    "# Prueba del modelo sin entrenar\n",
    "\n",
    "figure = plt.figure()\n",
    "rows,cols = 3,2\n",
    "\n",
    "i = 0\n",
    "\n",
    "model.eval()\n",
    "\n",
    "for row in range(1, rows+1):\n",
    "    j = torch.randint(len(train_set),size=(1,)).item() # Los números aleatorios tambien se pueden generar desde pytorch. Util para trabajar en la GPU.  \n",
    "    i += 1\n",
    "    image, flatten_imagen = train_set[j]\n",
    "    image = image.to(device)\n",
    "    figure.add_subplot(rows, cols, i)\n",
    "\n",
    "    if row == 1:\n",
    "        plt.title('Original')\n",
    "    plt.axis('off')\n",
    "\n",
    "    plt.imshow(unbatch(image), cmap='Greys_r')\n",
    "\n",
    "    i += 1\n",
    "    figure.add_subplot(rows, cols, i)\n",
    "\n",
    "    if row ==1:\n",
    "        plt.title('Predicción')\n",
    "    plt.axis('off')\n",
    "    image_pred = unbatch(model(batch(image)))\n",
    "    plt.imshow(image_pred, cmap='Greys_r')\n",
    "\n",
    "plt.show()"
   ]
  }
 ],
 "metadata": {
  "accelerator": "GPU",
  "colab": {
   "gpuType": "T4",
   "provenance": []
  },
  "kernelspec": {
   "display_name": "env_1",
   "language": "python",
   "name": "python3"
  },
  "language_info": {
   "codemirror_mode": {
    "name": "ipython",
    "version": 3
   },
   "file_extension": ".py",
   "mimetype": "text/x-python",
   "name": "python",
   "nbconvert_exporter": "python",
   "pygments_lexer": "ipython3",
   "version": "3.11.4"
  }
 },
 "nbformat": 4,
 "nbformat_minor": 0
}
