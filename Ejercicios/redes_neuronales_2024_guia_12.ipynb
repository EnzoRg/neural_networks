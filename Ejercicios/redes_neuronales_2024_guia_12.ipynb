{
 "cells": [
  {
   "cell_type": "markdown",
   "metadata": {
    "id": "NRYEofSD0xoF"
   },
   "source": [
    "# PyTorch: Aprendiendo Fashion-MNIST\n",
    "\n",
    "## Refs.\n",
    "\n",
    "* https://pytorch.org/tutorials/beginner/basics/optimization_tutorial.html\n",
    "\n",
    "* https://github.com/zalandoresearch/fashion-mnist\n",
    "\n",
    "* https://github.com/pranay414/Fashion-MNIST-Pytorch/blob/master/fashion_mnist.ipynb\n",
    "\n",
    "## **Ejercicio 1)** Importando librerías\n",
    "\n",
    "**0)** De ser necesario, **instale PyTorch** escribiendo\n",
    "\n",
    "    !pip3 install torch torchvision torchaudio torchviz\n",
    "\n",
    "**1)** Importe las librerías estandard de Python: `os`, `datetime`, `collections` y `pickle`.\n",
    "\n",
    "**2)** Importe las siguientes librerías third party de Python: `matplotlib.pyplot`, `numpy`, `scipy`, `sklearn`, `pandas`, `dill` y `json`.\n",
    "\n",
    "**3)** Importe las librerias necesarias de **PyTorch**: `torch` y `torchvision`.\n",
    "\n",
    "**4)** Importe la librería: `google.colab`."
   ]
  },
  {
   "cell_type": "code",
   "execution_count": 1,
   "metadata": {
    "id": "I8N3D_nU1_oT"
   },
   "outputs": [],
   "source": [
    "# 1.1)\n",
    "\n",
    "import os\n",
    "import pickle\n",
    "import datetime\n",
    "from collections import defaultdict"
   ]
  },
  {
   "cell_type": "code",
   "execution_count": 2,
   "metadata": {
    "id": "QsfFvPYhkCGl"
   },
   "outputs": [],
   "source": [
    "# 1.2)\n",
    "\n",
    "import matplotlib.pyplot as plt\n",
    "from matplotlib import cm\n",
    "import numpy as np\n",
    "import scipy as sp\n",
    "import scipy.linalg as linalg\n",
    "import sklearn as skl\n",
    "import pandas as pd\n",
    "#import dill\n",
    "import json"
   ]
  },
  {
   "cell_type": "code",
   "execution_count": 3,
   "metadata": {
    "id": "Uot5sVNnkCNa"
   },
   "outputs": [],
   "source": [
    "# 1.3)\n",
    "\n",
    "import torch\n",
    "import torch.optim as optim\n",
    "from torch import nn\n",
    "from torch.nn import functional as F\n",
    "from torch.utils.data import Dataset, DataLoader, Subset, random_split\n",
    "from torchvision import datasets\n",
    "from torchvision import transforms\n",
    "from torchvision.io import read_image\n",
    "from torchvision.transforms import ToTensor, Lambda, Compose\n",
    "#from torchviz import make_dot"
   ]
  },
  {
   "cell_type": "code",
   "execution_count": 4,
   "metadata": {
    "id": "rVCiYt-1kCUi"
   },
   "outputs": [],
   "source": [
    "# 1.4)\n",
    "#import google.colab\n",
    "#from google.colab import files"
   ]
  },
  {
   "cell_type": "markdown",
   "metadata": {
    "id": "NcaGEHAd10sb"
   },
   "source": [
    "## **Ejercicio 2)**\n",
    "\n",
    "Bajando y Jugando con el dataset **Fashion-MNIST**.\n",
    "\n",
    "**1)** Baje y transforme (i.e. normalize los valores al rango [0,1]) los conjuntos de entrenamiento y testeo de FashionMNIST.\n",
    "\n",
    "**2)** Explore algunos ejemplos de estos conjuntos. Que formato poseen?\n",
    "\n",
    "**3)** Visitando la página web de FashionMNIST, cree un diccionario de Python `Dict()` asociando cada categoría a un nombre adecuado de la misma.\n",
    "\n",
    "**4)** Grafique un mosaico de 3x3 imagenes de FashionMNIST, cada una titulada con su respectiva clasificación"
   ]
  },
  {
   "cell_type": "code",
   "execution_count": 5,
   "metadata": {},
   "outputs": [],
   "source": [
    "# 2.1)\n",
    "\n",
    "PATH = 'FashionMNIST/'\n",
    "BATCH_SIZE = 64\n",
    "\n",
    "# Definir las transformaciones para las imágenes\n",
    "transform = transforms.Compose([\n",
    "    transforms.ToTensor(),\n",
    "    transforms.Normalize((0.2860,), (0.3530,))  \n",
    "])\n",
    "\n",
    "train_data = datasets.FashionMNIST(PATH, train=True, download=True, transform=transform)\n",
    "valid_data = datasets.FashionMNIST(PATH,train=False, download=True, transform=transform)"
   ]
  },
  {
   "cell_type": "code",
   "execution_count": 6,
   "metadata": {},
   "outputs": [
    {
     "data": {
      "text/plain": [
       "(60000, 10000)"
      ]
     },
     "execution_count": 6,
     "metadata": {},
     "output_type": "execute_result"
    }
   ],
   "source": [
    "len(train_data), len(valid_data)"
   ]
  },
  {
   "cell_type": "code",
   "execution_count": 7,
   "metadata": {},
   "outputs": [],
   "source": [
    "img_t, _ = train_data[0]"
   ]
  },
  {
   "cell_type": "code",
   "execution_count": 8,
   "metadata": {},
   "outputs": [
    {
     "data": {
      "text/plain": [
       "torch.Size([1, 60000, 28, 28])"
      ]
     },
     "execution_count": 8,
     "metadata": {},
     "output_type": "execute_result"
    }
   ],
   "source": [
    "imgs = torch.stack([img_t for img_t, _ in train_data], dim=1)\n",
    "imgs.shape"
   ]
  },
  {
   "cell_type": "code",
   "execution_count": 9,
   "metadata": {},
   "outputs": [
    {
     "data": {
      "text/plain": [
       "tensor([0.0001])"
      ]
     },
     "execution_count": 9,
     "metadata": {},
     "output_type": "execute_result"
    }
   ],
   "source": [
    "imgs.view(1, -1).mean(dim=1)"
   ]
  },
  {
   "cell_type": "code",
   "execution_count": 10,
   "metadata": {},
   "outputs": [
    {
     "data": {
      "text/plain": [
       "tensor([1.0001])"
      ]
     },
     "execution_count": 10,
     "metadata": {},
     "output_type": "execute_result"
    }
   ],
   "source": [
    "imgs.view(1, -1).std(dim=1)"
   ]
  },
  {
   "cell_type": "code",
   "execution_count": 11,
   "metadata": {},
   "outputs": [],
   "source": [
    "trainloader = torch.utils.data.DataLoader(train_data, \n",
    "                                          batch_size=BATCH_SIZE, \n",
    "                                          shuffle=True)\n",
    "\n",
    "validloader = torch.utils.data.DataLoader(valid_data, \n",
    "                                         batch_size=BATCH_SIZE, \n",
    "                                         shuffle=True)"
   ]
  },
  {
   "cell_type": "code",
   "execution_count": 12,
   "metadata": {},
   "outputs": [],
   "source": [
    "imgs, label = train_data[0]"
   ]
  },
  {
   "cell_type": "code",
   "execution_count": 13,
   "metadata": {},
   "outputs": [
    {
     "data": {
      "text/plain": [
       "<matplotlib.image.AxesImage at 0x165bf38ccd0>"
      ]
     },
     "execution_count": 13,
     "metadata": {},
     "output_type": "execute_result"
    },
    {
     "data": {
      "image/png": "[encoded data removed]",
      "text/plain": [
       "<Figure size 640x480 with 1 Axes>"
      ]
     },
     "metadata": {},
     "output_type": "display_data"
    }
   ],
   "source": [
    "plt.imshow(imgs.squeeze(), cmap='gray')"
   ]
  },
  {
   "cell_type": "markdown",
   "metadata": {},
   "source": [
    "https://pytorch.org/tutorials/beginner/introyt/trainingyt.html?highlight=nn%20crossentropyloss\n",
    "\n",
    "https://ryanwingate.com/intro-to-machine-learning/deep-learning-with-pytorch/classifying-fashion-mnist/\n",
    "\n",
    "Deep Learning with PyTorch, Capitulo 7"
   ]
  },
  {
   "cell_type": "code",
   "execution_count": 14,
   "metadata": {},
   "outputs": [],
   "source": [
    "labels_names = {\n",
    "    0: 'T-shirt/top',\n",
    "    1: 'Trouser',\n",
    "    2: 'Pullover',\n",
    "    3: 'Dress',\n",
    "    4: 'Coat',\n",
    "    5: 'Sandal',\n",
    "    6: 'Shirt',\n",
    "    7: 'Sneaker',\n",
    "    8: 'Bag',\n",
    "    9: 'Ankle boot'\n",
    "}"
   ]
  },
  {
   "cell_type": "code",
   "execution_count": 15,
   "metadata": {},
   "outputs": [
    {
     "data": {
      "image/png": "[encoded data removed]",
      "text/plain": [
       "<Figure size 640x480 with 9 Axes>"
      ]
     },
     "metadata": {},
     "output_type": "display_data"
    }
   ],
   "source": [
    "figure = plt.figure()\n",
    "cols, rows = 3,3\n",
    "\n",
    "for i in range(1, cols*rows+1):\n",
    "    j = torch.randint(len(train_data), size=(1,)).item()\n",
    "    image, label = train_data[j]\n",
    "    figure.add_subplot(rows, cols, i)\n",
    "    plt.title(labels_names[label])\n",
    "    plt.axis('off')\n",
    "    plt.imshow(image.squeeze(), cmap='gray')\n",
    "plt.show()"
   ]
  },
  {
   "cell_type": "markdown",
   "metadata": {
    "id": "1OWYnfxWz8RS"
   },
   "source": [
    "## Ejercicio 3)\n",
    "\n",
    "Creando un `DataLoader` para alimentar el modelo con batchs (lotes) de entrenamiento.\n",
    "\n",
    "**1)** Cree los `DataLoader`s para cada conjunto. Defínalos con un `batch_size` de 100 y con el flag `shuffle` seteado a `True`.\n",
    "\n",
    "**2)** Use uno de los `DataLoader`s creados anteriormente para explorar algunos elementos del conjunto.\n",
    "\n",
    "Notar que, el iterador devuelve el batch en un par `(image,label)`.\n",
    "\n",
    "El objeto `images` es un tensor de dimensiones `(100,1,28,28)`.\n",
    "El 100 es el tamaño del batch.\n",
    "El 1 porque hay un solo canal (en este caso, un canal de escala de grises, pero podría haber varios, p. ej. uno por cada color de {Red, Green Blue} en caso que fuesen imagenes a color).\n",
    "Luego, 28 y 28 porque cada imagen del dataset es de 28 x 28 píxeles.\n",
    "\n",
    "El objeto `labels` es un tensor de dimensiones `(100,)`.\n",
    "La $i$-ésima entrada `labels[i]` de `labels` es un número en $\\{0,1,...,9\\}$ indicando la categoría a la que pertenece la $i$-ésima imagen en el batch, guardada en `images[i]`."
   ]
  },
  {
   "cell_type": "code",
   "execution_count": 16,
   "metadata": {
    "id": "lK7gqh7lrTi8"
   },
   "outputs": [],
   "source": [
    "# 3.1)\n",
    "\n",
    "train_loader = torch.utils.data.DataLoader(train_data, batch_size=100, shuffle=True)\n",
    "valid_loader = torch.utils.data.DataLoader(valid_data, batch_size=100, shuffle=True)"
   ]
  },
  {
   "cell_type": "code",
   "execution_count": 17,
   "metadata": {},
   "outputs": [
    {
     "data": {
      "text/plain": [
       "(60000, 600)"
      ]
     },
     "execution_count": 17,
     "metadata": {},
     "output_type": "execute_result"
    }
   ],
   "source": [
    "# 3.2)\n",
    "\n",
    "len(train_loader.dataset), len(train_loader)"
   ]
  },
  {
   "cell_type": "markdown",
   "metadata": {
    "id": "REToccG127zI"
   },
   "source": [
    "## Ejercicio 4)\n",
    "\n",
    "Defina una red neuronal de 4 capas, una de entrada, dos ocultas de $n_1=128$ y $n_2=64$ neuronas, respectivamente, y una de salida de 10 neuronas.\n",
    "\n",
    "En las capas intermedias utilice neuronas tipo ReLU y agregueles un *dropout* de p=0.2.\n",
    "En la capa de salida no utilice funciones de activación ni dropout.\n",
    "\n",
    "Las capas sucesivas tienen que estar totalmente conectadas entre si."
   ]
  },
  {
   "cell_type": "code",
   "execution_count": 18,
   "metadata": {
    "id": "C17Tib9G_k-q"
   },
   "outputs": [],
   "source": [
    "# 4)\n",
    "\n",
    "class NeuralNetwork(nn.Module):\n",
    "    def __init__(self, n1, n2, p=0.2):\n",
    "        super(NeuralNetwork, self).__init__()\n",
    "        # Capa 0\n",
    "        self.flatten = nn.Flatten()     #\n",
    "        \n",
    "        # Capa 1\n",
    "        self.fc1 = nn.Linear(28*28, n1) # fully connected\n",
    "        self.relu = nn.ReLU()\n",
    "        self.dropout = nn.Dropout(p)\n",
    "\n",
    "        # Capa 2\n",
    "        self.fc2 = nn.Linear(n1, n2)    # fully connected\n",
    "        self.relu = nn.ReLU()\n",
    "        self.dropout = nn.Dropout(p)\n",
    "\n",
    "        # Capa 3        \n",
    "        self.fc3 = nn.Linear(n2, 10)    # fully connected\n",
    "\n",
    "    def forward(self, x):\n",
    "        # Capa 0\n",
    "        x = self.flatten(x)\n",
    "\n",
    "        # Capa 1\n",
    "        x = self.fc1(x)\n",
    "        x = self.relu(x)\n",
    "        x = self.dropout(x)\n",
    "\n",
    "        # Capa 2\n",
    "        x = self.fc2(x)\n",
    "        x = self.relu(x)\n",
    "        x = self.dropout(x)\n",
    "\n",
    "        # Capa 3\n",
    "        x = self.fc3(x)\n",
    "        return x"
   ]
  },
  {
   "cell_type": "markdown",
   "metadata": {
    "id": "A9uINlg69OTw"
   },
   "source": [
    "## Ejercicio 5)\n",
    "\n",
    "Entrenamos el modelo\n",
    "\n",
    "**1)** Implemente, en una función, un loop de entrenamiento que recorra los batchs (lotes).\n",
    "\n",
    "**2)** Implemente, en una función, un loop de validación que recorra los batchs.\n",
    "\n",
    "**3)** Inicialize dos `DataLoader`s llamados `train_loader` y `valid_loader` a partir del `train_set` (conjunto de entranmiento) y del `valid_set` (conjunto de validación) de Fashion-MNIST, respectivamente, y que usen batchs de 100 ejemplos.\n",
    "\n",
    "**4)** Cree una función de pérdida usando la **Cross Entropy Loss**.\n",
    "\n",
    "**IMPORTANTE:** Notar que la **Cross Entropy Loss** aplica automáticamente una `log_softmax`.\n",
    "\n",
    "**5)** Cree un optimizador que utilice el método de **Stochastic Gradient Descent** con un learning rate igual a $10^{-3}$.\n",
    "\n",
    "**6)** Cree una instancia del modelo.\n",
    "\n",
    "**7)** Especifique en que dispositivo (`device`) va a trabajar: en una **CPU** o en una **GPU**.\n",
    "\n",
    "**8)** Implemente un loop de entrenamiento y validación que trabaje con el `train_loader` y el `valid_loader`, respectivamente, usando un numero arbitrario de épocas.\n",
    "Este loop debe guardar en cuatro listas los valores de los promedios del **Cross Entropy Loss** y las fracciones de clasificaciones correctas o **precisión** (accuracy) sobre el conjunto de **entrenamiento** y el de **validación**, respectivamente.\n",
    "\n",
    "**IMPORTANTE:** No olvide copiar los batchs al dispositivo de trabajo.\n",
    "\n",
    "**9)** Entrene y valide el modelo.\n",
    "\n",
    "**10)** Use las listas del inciso anterior para graficar en función de las épocas la **Cross Entropy Loss** de **entrenamiento** y de **validación**.\n",
    "Realize un gráfico análogo pero con la **precisión**.\n",
    "Discuta y comente, cual es el número óptimo de épocas de entrenamiento?\n",
    "\n",
    "**11)** Repita los experimentos variando hiperparámetros. Por ejemplo:\n",
    "\n",
    "- El learning-rate.\n",
    "- El optimizador (ej. puede usar ADAM).\n",
    "- El valor de dropout.\n",
    "- El número de neuronas en las capas intermedias.\n",
    "- El número de épocas de entrenamiento.\n",
    "- El tamaño de los lotes.\n",
    "\n",
    "Discuta los resultados."
   ]
  },
  {
   "cell_type": "code",
   "execution_count": 19,
   "metadata": {},
   "outputs": [],
   "source": [
    "# 5.1)\n",
    "def train_model(dataloader, model, loss_fn, optimizer):\n",
    "    num_samples = len(dataloader.dataset)\n",
    "    num_batches = len(dataloader)\n",
    "    sum_batch_avrg_loss = 0\n",
    "    sum_correct = 0\n",
    "    num_processed_samples = 0\n",
    "\n",
    "    model.train()\n",
    "    for batch, (X, y) in enumerate(dataloader):\n",
    "        X, y = X.to(device), y.to(device)\n",
    "        batch_size = len(X)\n",
    "        pred = model(X)\n",
    "        loss = loss_fn(pred, y)\n",
    "        \n",
    "        optimizer.zero_grad()\n",
    "        loss.backward()\n",
    "        optimizer.step()\n",
    "\n",
    "        batch_avrg_loss = loss.item()\n",
    "        sum_batch_avrg_loss += batch_avrg_loss\n",
    "        sum_correct += (pred.argmax(dim=1) == y).type(torch.float).sum().item()\n",
    "        num_processed_samples += batch_size\n",
    "\n",
    "        if batch % max(num_batches // 10, 1) == 0:\n",
    "            print(f'Batch {batch:>5d} | Loss: {batch_avrg_loss:.6f} | '\n",
    "                  f'Processed: {100 * num_processed_samples / num_samples:.2f}%')\n",
    "\n",
    "    avg_loss = sum_batch_avrg_loss / num_batches\n",
    "    precision = sum_correct / num_samples\n",
    "    return avg_loss, precision\n",
    "\n",
    "# 5.2)\n",
    "def valid_model(dataloader, model, loss_fn):\n",
    "    num_samples = len(dataloader.dataset)\n",
    "    num_batches = len(dataloader)\n",
    "    sum_batch_avrg_loss = 0\n",
    "    sum_correct = 0\n",
    "\n",
    "    model.eval()\n",
    "    with torch.no_grad():\n",
    "        for X, y in dataloader:\n",
    "            X, y = X.to(device), y.to(device)\n",
    "            pred = model(X)\n",
    "            loss = loss_fn(pred, y)\n",
    "            sum_batch_avrg_loss += loss.item()\n",
    "            sum_correct += (pred.argmax(dim=1) == y).type(torch.float).sum().item()\n",
    "\n",
    "    avg_loss = sum_batch_avrg_loss / num_batches\n",
    "    precision = sum_correct / num_samples\n",
    "    print(f'Validation | Precision: {100 * precision:.1f}% | Avg Loss: {avg_loss:.6f}')\n",
    "    return avg_loss, precision"
   ]
  },
  {
   "cell_type": "code",
   "execution_count": 20,
   "metadata": {},
   "outputs": [
    {
     "name": "stdout",
     "output_type": "stream",
     "text": [
      "Epoch 1\n",
      "--------------------\n",
      "Batch     0 | Loss: 2.287950 | Processed: 0.11%\n",
      "Batch    93 | Loss: 2.265323 | Processed: 10.03%\n",
      "Batch   186 | Loss: 2.185581 | Processed: 19.95%\n",
      "Batch   279 | Loss: 2.173590 | Processed: 29.87%\n",
      "Batch   372 | Loss: 2.118922 | Processed: 39.79%\n",
      "Batch   465 | Loss: 2.040490 | Processed: 49.71%\n",
      "Batch   558 | Loss: 1.926057 | Processed: 59.63%\n",
      "Batch   651 | Loss: 1.949969 | Processed: 69.55%\n",
      "Batch   744 | Loss: 1.816591 | Processed: 79.47%\n",
      "Batch   837 | Loss: 1.728029 | Processed: 89.39%\n",
      "Batch   930 | Loss: 1.642599 | Processed: 99.31%\n",
      "Validation | Precision: 55.0% | Avg Loss: 1.656110\n",
      "Epoch 2\n",
      "--------------------\n",
      "Batch     0 | Loss: 1.710871 | Processed: 0.11%\n",
      "Batch    93 | Loss: 1.531211 | Processed: 10.03%\n",
      "Batch   186 | Loss: 1.640338 | Processed: 19.95%\n",
      "Batch   279 | Loss: 1.599113 | Processed: 29.87%\n",
      "Batch   372 | Loss: 1.545923 | Processed: 39.79%\n",
      "Batch   465 | Loss: 1.502268 | Processed: 49.71%\n",
      "Batch   558 | Loss: 1.231749 | Processed: 59.63%\n",
      "Batch   651 | Loss: 1.320197 | Processed: 69.55%\n",
      "Batch   744 | Loss: 1.264468 | Processed: 79.47%\n",
      "Batch   837 | Loss: 1.206281 | Processed: 89.39%\n",
      "Batch   930 | Loss: 1.300185 | Processed: 99.31%\n",
      "Validation | Precision: 63.8% | Avg Loss: 1.126642\n",
      "Epoch 3\n",
      "--------------------\n",
      "Batch     0 | Loss: 1.275544 | Processed: 0.11%\n",
      "Batch    93 | Loss: 1.035076 | Processed: 10.03%\n",
      "Batch   186 | Loss: 1.279657 | Processed: 19.95%\n",
      "Batch   279 | Loss: 1.265047 | Processed: 29.87%\n",
      "Batch   372 | Loss: 1.043350 | Processed: 39.79%\n",
      "Batch   465 | Loss: 1.153471 | Processed: 49.71%\n",
      "Batch   558 | Loss: 0.971710 | Processed: 59.63%\n",
      "Batch   651 | Loss: 0.993996 | Processed: 69.55%\n",
      "Batch   744 | Loss: 1.059946 | Processed: 79.47%\n",
      "Batch   837 | Loss: 1.000753 | Processed: 89.39%\n",
      "Batch   930 | Loss: 0.797131 | Processed: 99.31%\n",
      "Validation | Precision: 70.2% | Avg Loss: 0.919357\n",
      "Epoch 4\n",
      "--------------------\n",
      "Batch     0 | Loss: 1.056847 | Processed: 0.11%\n",
      "Batch    93 | Loss: 0.958187 | Processed: 10.03%\n",
      "Batch   186 | Loss: 1.033222 | Processed: 19.95%\n",
      "Batch   279 | Loss: 0.929589 | Processed: 29.87%\n",
      "Batch   372 | Loss: 0.983935 | Processed: 39.79%\n",
      "Batch   465 | Loss: 1.029935 | Processed: 49.71%\n",
      "Batch   558 | Loss: 0.896439 | Processed: 59.63%\n",
      "Batch   651 | Loss: 0.965493 | Processed: 69.55%\n",
      "Batch   744 | Loss: 0.905047 | Processed: 79.47%\n",
      "Batch   837 | Loss: 0.956646 | Processed: 89.39%\n",
      "Batch   930 | Loss: 1.025470 | Processed: 99.31%\n",
      "Validation | Precision: 73.1% | Avg Loss: 0.812470\n",
      "Epoch 5\n",
      "--------------------\n",
      "Batch     0 | Loss: 0.867694 | Processed: 0.11%\n",
      "Batch    93 | Loss: 0.936761 | Processed: 10.03%\n",
      "Batch   186 | Loss: 0.618562 | Processed: 19.95%\n",
      "Batch   279 | Loss: 0.895145 | Processed: 29.87%\n",
      "Batch   372 | Loss: 0.816775 | Processed: 39.79%\n",
      "Batch   465 | Loss: 0.911446 | Processed: 49.71%\n",
      "Batch   558 | Loss: 0.942878 | Processed: 59.63%\n",
      "Batch   651 | Loss: 0.687769 | Processed: 69.55%\n",
      "Batch   744 | Loss: 0.852309 | Processed: 79.47%\n",
      "Batch   837 | Loss: 0.809318 | Processed: 89.39%\n",
      "Batch   930 | Loss: 1.013250 | Processed: 99.31%\n",
      "Validation | Precision: 74.2% | Avg Loss: 0.746431\n",
      "Epoch 6\n",
      "--------------------\n",
      "Batch     0 | Loss: 0.936550 | Processed: 0.11%\n",
      "Batch    93 | Loss: 0.920236 | Processed: 10.03%\n",
      "Batch   186 | Loss: 0.797504 | Processed: 19.95%\n",
      "Batch   279 | Loss: 0.886993 | Processed: 29.87%\n",
      "Batch   372 | Loss: 0.777880 | Processed: 39.79%\n",
      "Batch   465 | Loss: 0.733844 | Processed: 49.71%\n",
      "Batch   558 | Loss: 0.952393 | Processed: 59.63%\n",
      "Batch   651 | Loss: 0.653473 | Processed: 69.55%\n",
      "Batch   744 | Loss: 0.783707 | Processed: 79.47%\n",
      "Batch   837 | Loss: 0.773842 | Processed: 89.39%\n",
      "Batch   930 | Loss: 0.642761 | Processed: 99.31%\n",
      "Validation | Precision: 75.4% | Avg Loss: 0.702267\n",
      "Epoch 7\n",
      "--------------------\n",
      "Batch     0 | Loss: 0.984896 | Processed: 0.11%\n",
      "Batch    93 | Loss: 0.695382 | Processed: 10.03%\n",
      "Batch   186 | Loss: 0.910781 | Processed: 19.95%\n",
      "Batch   279 | Loss: 0.665862 | Processed: 29.87%\n",
      "Batch   372 | Loss: 0.714098 | Processed: 39.79%\n",
      "Batch   465 | Loss: 0.895280 | Processed: 49.71%\n",
      "Batch   558 | Loss: 0.601365 | Processed: 59.63%\n",
      "Batch   651 | Loss: 0.773028 | Processed: 69.55%\n",
      "Batch   744 | Loss: 0.902261 | Processed: 79.47%\n",
      "Batch   837 | Loss: 0.697877 | Processed: 89.39%\n",
      "Batch   930 | Loss: 0.943662 | Processed: 99.31%\n",
      "Validation | Precision: 76.4% | Avg Loss: 0.669065\n",
      "Epoch 8\n",
      "--------------------\n",
      "Batch     0 | Loss: 0.595490 | Processed: 0.11%\n",
      "Batch    93 | Loss: 0.674154 | Processed: 10.03%\n",
      "Batch   186 | Loss: 0.932476 | Processed: 19.95%\n",
      "Batch   279 | Loss: 0.791011 | Processed: 29.87%\n",
      "Batch   372 | Loss: 0.808733 | Processed: 39.79%\n",
      "Batch   465 | Loss: 0.829426 | Processed: 49.71%\n",
      "Batch   558 | Loss: 0.813644 | Processed: 59.63%\n",
      "Batch   651 | Loss: 0.431782 | Processed: 69.55%\n",
      "Batch   744 | Loss: 0.603058 | Processed: 79.47%\n",
      "Batch   837 | Loss: 0.620836 | Processed: 89.39%\n",
      "Batch   930 | Loss: 0.935436 | Processed: 99.31%\n",
      "Validation | Precision: 77.2% | Avg Loss: 0.641741\n",
      "Epoch 9\n",
      "--------------------\n",
      "Batch     0 | Loss: 0.717504 | Processed: 0.11%\n",
      "Batch    93 | Loss: 0.707447 | Processed: 10.03%\n",
      "Batch   186 | Loss: 0.512022 | Processed: 19.95%\n",
      "Batch   279 | Loss: 0.489299 | Processed: 29.87%\n",
      "Batch   372 | Loss: 0.791036 | Processed: 39.79%\n",
      "Batch   465 | Loss: 0.679742 | Processed: 49.71%\n",
      "Batch   558 | Loss: 0.730754 | Processed: 59.63%\n",
      "Batch   651 | Loss: 0.824827 | Processed: 69.55%\n",
      "Batch   744 | Loss: 0.733745 | Processed: 79.47%\n",
      "Batch   837 | Loss: 0.752173 | Processed: 89.39%\n",
      "Batch   930 | Loss: 0.594317 | Processed: 99.31%\n",
      "Validation | Precision: 77.9% | Avg Loss: 0.621875\n",
      "Epoch 10\n",
      "--------------------\n",
      "Batch     0 | Loss: 0.680447 | Processed: 0.11%\n",
      "Batch    93 | Loss: 0.733490 | Processed: 10.03%\n",
      "Batch   186 | Loss: 0.652353 | Processed: 19.95%\n",
      "Batch   279 | Loss: 0.714264 | Processed: 29.87%\n",
      "Batch   372 | Loss: 0.632247 | Processed: 39.79%\n",
      "Batch   465 | Loss: 0.765991 | Processed: 49.71%\n",
      "Batch   558 | Loss: 0.683678 | Processed: 59.63%\n",
      "Batch   651 | Loss: 0.694993 | Processed: 69.55%\n",
      "Batch   744 | Loss: 0.666227 | Processed: 79.47%\n",
      "Batch   837 | Loss: 0.665480 | Processed: 89.39%\n",
      "Batch   930 | Loss: 0.759848 | Processed: 99.31%\n",
      "Validation | Precision: 78.4% | Avg Loss: 0.606799\n",
      "Epoch 11\n",
      "--------------------\n",
      "Batch     0 | Loss: 0.774500 | Processed: 0.11%\n",
      "Batch    93 | Loss: 0.506085 | Processed: 10.03%\n",
      "Batch   186 | Loss: 0.650372 | Processed: 19.95%\n",
      "Batch   279 | Loss: 0.527808 | Processed: 29.87%\n",
      "Batch   372 | Loss: 0.668366 | Processed: 39.79%\n",
      "Batch   465 | Loss: 0.634261 | Processed: 49.71%\n",
      "Batch   558 | Loss: 0.558941 | Processed: 59.63%\n",
      "Batch   651 | Loss: 0.658468 | Processed: 69.55%\n",
      "Batch   744 | Loss: 0.767296 | Processed: 79.47%\n",
      "Batch   837 | Loss: 0.599353 | Processed: 89.39%\n",
      "Batch   930 | Loss: 0.588734 | Processed: 99.31%\n",
      "Validation | Precision: 78.7% | Avg Loss: 0.591556\n",
      "Epoch 12\n",
      "--------------------\n",
      "Batch     0 | Loss: 0.809416 | Processed: 0.11%\n",
      "Batch    93 | Loss: 0.524566 | Processed: 10.03%\n",
      "Batch   186 | Loss: 0.495569 | Processed: 19.95%\n",
      "Batch   279 | Loss: 0.640873 | Processed: 29.87%\n",
      "Batch   372 | Loss: 0.728257 | Processed: 39.79%\n",
      "Batch   465 | Loss: 0.743004 | Processed: 49.71%\n",
      "Batch   558 | Loss: 0.536814 | Processed: 59.63%\n",
      "Batch   651 | Loss: 0.693551 | Processed: 69.55%\n",
      "Batch   744 | Loss: 0.694220 | Processed: 79.47%\n",
      "Batch   837 | Loss: 0.730596 | Processed: 89.39%\n",
      "Batch   930 | Loss: 0.548632 | Processed: 99.31%\n",
      "Validation | Precision: 79.2% | Avg Loss: 0.579034\n",
      "Epoch 13\n",
      "--------------------\n",
      "Batch     0 | Loss: 0.686748 | Processed: 0.11%\n",
      "Batch    93 | Loss: 0.650238 | Processed: 10.03%\n",
      "Batch   186 | Loss: 0.566351 | Processed: 19.95%\n",
      "Batch   279 | Loss: 0.440739 | Processed: 29.87%\n",
      "Batch   372 | Loss: 0.681379 | Processed: 39.79%\n",
      "Batch   465 | Loss: 0.569195 | Processed: 49.71%\n",
      "Batch   558 | Loss: 0.699816 | Processed: 59.63%\n",
      "Batch   651 | Loss: 0.630434 | Processed: 69.55%\n",
      "Batch   744 | Loss: 0.518844 | Processed: 79.47%\n",
      "Batch   837 | Loss: 0.968388 | Processed: 89.39%\n",
      "Batch   930 | Loss: 0.540705 | Processed: 99.31%\n",
      "Validation | Precision: 79.6% | Avg Loss: 0.569301\n",
      "Epoch 14\n",
      "--------------------\n",
      "Batch     0 | Loss: 0.600895 | Processed: 0.11%\n",
      "Batch    93 | Loss: 0.578788 | Processed: 10.03%\n",
      "Batch   186 | Loss: 0.550236 | Processed: 19.95%\n",
      "Batch   279 | Loss: 0.545937 | Processed: 29.87%\n",
      "Batch   372 | Loss: 0.502566 | Processed: 39.79%\n",
      "Batch   465 | Loss: 0.437383 | Processed: 49.71%\n",
      "Batch   558 | Loss: 0.668354 | Processed: 59.63%\n",
      "Batch   651 | Loss: 0.445841 | Processed: 69.55%\n",
      "Batch   744 | Loss: 0.670604 | Processed: 79.47%\n",
      "Batch   837 | Loss: 0.451070 | Processed: 89.39%\n",
      "Batch   930 | Loss: 0.547496 | Processed: 99.31%\n",
      "Validation | Precision: 79.9% | Avg Loss: 0.559035\n",
      "Epoch 15\n",
      "--------------------\n",
      "Batch     0 | Loss: 0.591382 | Processed: 0.11%\n",
      "Batch    93 | Loss: 0.631961 | Processed: 10.03%\n",
      "Batch   186 | Loss: 0.440888 | Processed: 19.95%\n",
      "Batch   279 | Loss: 0.675518 | Processed: 29.87%\n",
      "Batch   372 | Loss: 0.566398 | Processed: 39.79%\n",
      "Batch   465 | Loss: 0.694238 | Processed: 49.71%\n",
      "Batch   558 | Loss: 0.519152 | Processed: 59.63%\n",
      "Batch   651 | Loss: 0.713750 | Processed: 69.55%\n",
      "Batch   744 | Loss: 0.607369 | Processed: 79.47%\n",
      "Batch   837 | Loss: 0.497557 | Processed: 89.39%\n",
      "Batch   930 | Loss: 0.427469 | Processed: 99.31%\n",
      "Validation | Precision: 80.1% | Avg Loss: 0.548908\n",
      "Epoch 16\n",
      "--------------------\n",
      "Batch     0 | Loss: 0.580401 | Processed: 0.11%\n",
      "Batch    93 | Loss: 0.409091 | Processed: 10.03%\n",
      "Batch   186 | Loss: 0.554663 | Processed: 19.95%\n",
      "Batch   279 | Loss: 0.527005 | Processed: 29.87%\n",
      "Batch   372 | Loss: 0.460392 | Processed: 39.79%\n",
      "Batch   465 | Loss: 0.839962 | Processed: 49.71%\n",
      "Batch   558 | Loss: 0.800102 | Processed: 59.63%\n",
      "Batch   651 | Loss: 0.602432 | Processed: 69.55%\n",
      "Batch   744 | Loss: 0.438207 | Processed: 79.47%\n",
      "Batch   837 | Loss: 0.974122 | Processed: 89.39%\n",
      "Batch   930 | Loss: 0.469681 | Processed: 99.31%\n",
      "Validation | Precision: 80.5% | Avg Loss: 0.541747\n",
      "Epoch 17\n",
      "--------------------\n",
      "Batch     0 | Loss: 0.539854 | Processed: 0.11%\n",
      "Batch    93 | Loss: 0.396042 | Processed: 10.03%\n",
      "Batch   186 | Loss: 0.540544 | Processed: 19.95%\n",
      "Batch   279 | Loss: 0.722941 | Processed: 29.87%\n",
      "Batch   372 | Loss: 0.421634 | Processed: 39.79%\n",
      "Batch   465 | Loss: 0.557692 | Processed: 49.71%\n",
      "Batch   558 | Loss: 0.664277 | Processed: 59.63%\n",
      "Batch   651 | Loss: 0.722113 | Processed: 69.55%\n",
      "Batch   744 | Loss: 0.489257 | Processed: 79.47%\n",
      "Batch   837 | Loss: 0.648235 | Processed: 89.39%\n",
      "Batch   930 | Loss: 0.675392 | Processed: 99.31%\n",
      "Validation | Precision: 80.6% | Avg Loss: 0.532551\n",
      "Epoch 18\n",
      "--------------------\n",
      "Batch     0 | Loss: 0.552919 | Processed: 0.11%\n",
      "Batch    93 | Loss: 0.502730 | Processed: 10.03%\n",
      "Batch   186 | Loss: 0.531617 | Processed: 19.95%\n",
      "Batch   279 | Loss: 0.423581 | Processed: 29.87%\n",
      "Batch   372 | Loss: 0.701739 | Processed: 39.79%\n",
      "Batch   465 | Loss: 0.475603 | Processed: 49.71%\n",
      "Batch   558 | Loss: 0.538331 | Processed: 59.63%\n",
      "Batch   651 | Loss: 0.526231 | Processed: 69.55%\n",
      "Batch   744 | Loss: 0.492017 | Processed: 79.47%\n",
      "Batch   837 | Loss: 0.526626 | Processed: 89.39%\n",
      "Batch   930 | Loss: 0.491876 | Processed: 99.31%\n",
      "Validation | Precision: 80.9% | Avg Loss: 0.525006\n",
      "Epoch 19\n",
      "--------------------\n",
      "Batch     0 | Loss: 0.693190 | Processed: 0.11%\n",
      "Batch    93 | Loss: 0.559706 | Processed: 10.03%\n",
      "Batch   186 | Loss: 0.609768 | Processed: 19.95%\n",
      "Batch   279 | Loss: 0.509062 | Processed: 29.87%\n",
      "Batch   372 | Loss: 0.634372 | Processed: 39.79%\n",
      "Batch   465 | Loss: 0.553375 | Processed: 49.71%\n",
      "Batch   558 | Loss: 0.548175 | Processed: 59.63%\n",
      "Batch   651 | Loss: 0.491487 | Processed: 69.55%\n",
      "Batch   744 | Loss: 0.592975 | Processed: 79.47%\n",
      "Batch   837 | Loss: 0.589929 | Processed: 89.39%\n",
      "Batch   930 | Loss: 0.540630 | Processed: 99.31%\n",
      "Validation | Precision: 81.1% | Avg Loss: 0.518060\n",
      "Epoch 20\n",
      "--------------------\n",
      "Batch     0 | Loss: 0.563539 | Processed: 0.11%\n",
      "Batch    93 | Loss: 0.713183 | Processed: 10.03%\n",
      "Batch   186 | Loss: 0.630452 | Processed: 19.95%\n",
      "Batch   279 | Loss: 0.558636 | Processed: 29.87%\n",
      "Batch   372 | Loss: 0.456241 | Processed: 39.79%\n",
      "Batch   465 | Loss: 0.544891 | Processed: 49.71%\n",
      "Batch   558 | Loss: 0.525000 | Processed: 59.63%\n",
      "Batch   651 | Loss: 0.642463 | Processed: 69.55%\n",
      "Batch   744 | Loss: 0.630482 | Processed: 79.47%\n",
      "Batch   837 | Loss: 0.491398 | Processed: 89.39%\n",
      "Batch   930 | Loss: 0.804949 | Processed: 99.31%\n",
      "Validation | Precision: 81.3% | Avg Loss: 0.515380\n",
      "Epoch 21\n",
      "--------------------\n",
      "Batch     0 | Loss: 0.418543 | Processed: 0.11%\n",
      "Batch    93 | Loss: 0.729701 | Processed: 10.03%\n",
      "Batch   186 | Loss: 0.551259 | Processed: 19.95%\n",
      "Batch   279 | Loss: 0.536093 | Processed: 29.87%\n",
      "Batch   372 | Loss: 0.467402 | Processed: 39.79%\n",
      "Batch   465 | Loss: 0.508476 | Processed: 49.71%\n",
      "Batch   558 | Loss: 0.439482 | Processed: 59.63%\n",
      "Batch   651 | Loss: 0.415459 | Processed: 69.55%\n",
      "Batch   744 | Loss: 0.691460 | Processed: 79.47%\n",
      "Batch   837 | Loss: 0.687117 | Processed: 89.39%\n",
      "Batch   930 | Loss: 0.511543 | Processed: 99.31%\n",
      "Validation | Precision: 81.5% | Avg Loss: 0.509183\n",
      "Epoch 22\n",
      "--------------------\n",
      "Batch     0 | Loss: 0.557054 | Processed: 0.11%\n",
      "Batch    93 | Loss: 0.519082 | Processed: 10.03%\n",
      "Batch   186 | Loss: 0.671870 | Processed: 19.95%\n",
      "Batch   279 | Loss: 0.396131 | Processed: 29.87%\n",
      "Batch   372 | Loss: 0.660060 | Processed: 39.79%\n",
      "Batch   465 | Loss: 0.553325 | Processed: 49.71%\n",
      "Batch   558 | Loss: 0.460844 | Processed: 59.63%\n",
      "Batch   651 | Loss: 0.697916 | Processed: 69.55%\n",
      "Batch   744 | Loss: 0.500094 | Processed: 79.47%\n",
      "Batch   837 | Loss: 0.623360 | Processed: 89.39%\n",
      "Batch   930 | Loss: 0.629373 | Processed: 99.31%\n",
      "Validation | Precision: 81.7% | Avg Loss: 0.503840\n",
      "Epoch 23\n",
      "--------------------\n",
      "Batch     0 | Loss: 0.384785 | Processed: 0.11%\n",
      "Batch    93 | Loss: 0.748576 | Processed: 10.03%\n",
      "Batch   186 | Loss: 0.675802 | Processed: 19.95%\n",
      "Batch   279 | Loss: 0.663311 | Processed: 29.87%\n",
      "Batch   372 | Loss: 0.545204 | Processed: 39.79%\n",
      "Batch   465 | Loss: 0.673879 | Processed: 49.71%\n",
      "Batch   558 | Loss: 0.468275 | Processed: 59.63%\n",
      "Batch   651 | Loss: 0.448458 | Processed: 69.55%\n",
      "Batch   744 | Loss: 0.496230 | Processed: 79.47%\n",
      "Batch   837 | Loss: 0.574809 | Processed: 89.39%\n",
      "Batch   930 | Loss: 0.633518 | Processed: 99.31%\n",
      "Validation | Precision: 81.8% | Avg Loss: 0.498457\n",
      "Epoch 24\n",
      "--------------------\n",
      "Batch     0 | Loss: 0.621608 | Processed: 0.11%\n",
      "Batch    93 | Loss: 0.536617 | Processed: 10.03%\n",
      "Batch   186 | Loss: 0.543359 | Processed: 19.95%\n",
      "Batch   279 | Loss: 0.281336 | Processed: 29.87%\n",
      "Batch   372 | Loss: 0.617483 | Processed: 39.79%\n",
      "Batch   465 | Loss: 0.518123 | Processed: 49.71%\n",
      "Batch   558 | Loss: 0.475195 | Processed: 59.63%\n",
      "Batch   651 | Loss: 0.529163 | Processed: 69.55%\n",
      "Batch   744 | Loss: 0.546460 | Processed: 79.47%\n",
      "Batch   837 | Loss: 0.380993 | Processed: 89.39%\n",
      "Batch   930 | Loss: 0.411149 | Processed: 99.31%\n",
      "Validation | Precision: 82.0% | Avg Loss: 0.493932\n",
      "Epoch 25\n",
      "--------------------\n",
      "Batch     0 | Loss: 0.504778 | Processed: 0.11%\n",
      "Batch    93 | Loss: 0.558983 | Processed: 10.03%\n",
      "Batch   186 | Loss: 0.610954 | Processed: 19.95%\n",
      "Batch   279 | Loss: 0.636137 | Processed: 29.87%\n",
      "Batch   372 | Loss: 0.770216 | Processed: 39.79%\n",
      "Batch   465 | Loss: 0.392854 | Processed: 49.71%\n",
      "Batch   558 | Loss: 0.815708 | Processed: 59.63%\n",
      "Batch   651 | Loss: 0.643277 | Processed: 69.55%\n",
      "Batch   744 | Loss: 0.528543 | Processed: 79.47%\n",
      "Batch   837 | Loss: 0.667623 | Processed: 89.39%\n",
      "Batch   930 | Loss: 0.481582 | Processed: 99.31%\n",
      "Validation | Precision: 82.2% | Avg Loss: 0.490837\n",
      "Epoch 26\n",
      "--------------------\n",
      "Batch     0 | Loss: 0.418018 | Processed: 0.11%\n",
      "Batch    93 | Loss: 0.457938 | Processed: 10.03%\n",
      "Batch   186 | Loss: 0.531214 | Processed: 19.95%\n",
      "Batch   279 | Loss: 0.666800 | Processed: 29.87%\n",
      "Batch   372 | Loss: 0.546989 | Processed: 39.79%\n",
      "Batch   465 | Loss: 0.569309 | Processed: 49.71%\n",
      "Batch   558 | Loss: 0.424551 | Processed: 59.63%\n",
      "Batch   651 | Loss: 0.349216 | Processed: 69.55%\n",
      "Batch   744 | Loss: 0.368870 | Processed: 79.47%\n",
      "Batch   837 | Loss: 0.413278 | Processed: 89.39%\n",
      "Batch   930 | Loss: 0.673477 | Processed: 99.31%\n",
      "Validation | Precision: 82.1% | Avg Loss: 0.486613\n",
      "Epoch 27\n",
      "--------------------\n",
      "Batch     0 | Loss: 0.702968 | Processed: 0.11%\n",
      "Batch    93 | Loss: 0.637752 | Processed: 10.03%\n",
      "Batch   186 | Loss: 0.597784 | Processed: 19.95%\n",
      "Batch   279 | Loss: 0.447642 | Processed: 29.87%\n",
      "Batch   372 | Loss: 0.498431 | Processed: 39.79%\n",
      "Batch   465 | Loss: 0.474363 | Processed: 49.71%\n",
      "Batch   558 | Loss: 0.445434 | Processed: 59.63%\n",
      "Batch   651 | Loss: 0.591046 | Processed: 69.55%\n",
      "Batch   744 | Loss: 0.559868 | Processed: 79.47%\n",
      "Batch   837 | Loss: 0.530612 | Processed: 89.39%\n",
      "Batch   930 | Loss: 0.703182 | Processed: 99.31%\n",
      "Validation | Precision: 82.1% | Avg Loss: 0.483436\n",
      "Epoch 28\n",
      "--------------------\n",
      "Batch     0 | Loss: 0.541311 | Processed: 0.11%\n",
      "Batch    93 | Loss: 0.482853 | Processed: 10.03%\n",
      "Batch   186 | Loss: 0.541848 | Processed: 19.95%\n",
      "Batch   279 | Loss: 0.441110 | Processed: 29.87%\n",
      "Batch   372 | Loss: 0.429653 | Processed: 39.79%\n",
      "Batch   465 | Loss: 0.623063 | Processed: 49.71%\n",
      "Batch   558 | Loss: 0.584564 | Processed: 59.63%\n",
      "Batch   651 | Loss: 0.509082 | Processed: 69.55%\n",
      "Batch   744 | Loss: 0.430748 | Processed: 79.47%\n",
      "Batch   837 | Loss: 0.535302 | Processed: 89.39%\n",
      "Batch   930 | Loss: 0.530454 | Processed: 99.31%\n",
      "Validation | Precision: 82.3% | Avg Loss: 0.478817\n",
      "Epoch 29\n",
      "--------------------\n",
      "Batch     0 | Loss: 0.384026 | Processed: 0.11%\n",
      "Batch    93 | Loss: 0.707121 | Processed: 10.03%\n",
      "Batch   186 | Loss: 0.620143 | Processed: 19.95%\n",
      "Batch   279 | Loss: 0.311527 | Processed: 29.87%\n",
      "Batch   372 | Loss: 0.609805 | Processed: 39.79%\n",
      "Batch   465 | Loss: 0.409698 | Processed: 49.71%\n",
      "Batch   558 | Loss: 0.593160 | Processed: 59.63%\n",
      "Batch   651 | Loss: 0.601390 | Processed: 69.55%\n",
      "Batch   744 | Loss: 0.611207 | Processed: 79.47%\n",
      "Batch   837 | Loss: 0.643090 | Processed: 89.39%\n",
      "Batch   930 | Loss: 0.582320 | Processed: 99.31%\n",
      "Validation | Precision: 82.5% | Avg Loss: 0.476158\n",
      "Epoch 30\n",
      "--------------------\n",
      "Batch     0 | Loss: 0.596768 | Processed: 0.11%\n",
      "Batch    93 | Loss: 0.554169 | Processed: 10.03%\n",
      "Batch   186 | Loss: 0.394881 | Processed: 19.95%\n",
      "Batch   279 | Loss: 0.439414 | Processed: 29.87%\n",
      "Batch   372 | Loss: 0.379138 | Processed: 39.79%\n",
      "Batch   465 | Loss: 0.473335 | Processed: 49.71%\n",
      "Batch   558 | Loss: 0.409348 | Processed: 59.63%\n",
      "Batch   651 | Loss: 0.503345 | Processed: 69.55%\n",
      "Batch   744 | Loss: 0.596511 | Processed: 79.47%\n",
      "Batch   837 | Loss: 0.533866 | Processed: 89.39%\n",
      "Batch   930 | Loss: 0.429377 | Processed: 99.31%\n",
      "Validation | Precision: 82.5% | Avg Loss: 0.475220\n",
      "Entranamiento completo\n"
     ]
    }
   ],
   "source": [
    "# 5.3)\n",
    "train_loader = DataLoader(train_data, batch_size=BATCH_SIZE, shuffle=True)\n",
    "valid_loader = DataLoader(valid_data, batch_size=BATCH_SIZE, shuffle=True)\n",
    "\n",
    "\n",
    "# 5.4)\n",
    "loss_fn = nn.CrossEntropyLoss()\n",
    "\n",
    "\n",
    "# 5.5)\n",
    "lr = 1e-3\n",
    "\n",
    "\n",
    "# 5.6)\n",
    "n1 = 128\n",
    "n2 = 64\n",
    "p = 0.2\n",
    "model = NeuralNetwork(n1, n2, p=p)\n",
    "optimizer = torch.optim.SGD(model.parameters(), lr=lr)\n",
    "\n",
    "\n",
    "# 5.7)\n",
    "device = torch.device('cuda' if torch.cuda.is_available() else 'cpu')\n",
    "model = model.to(device)\n",
    "\n",
    "\n",
    "# 5.9)\n",
    "num_epochs = 30\n",
    "list_train_avg_loss = []\n",
    "list_valid_avg_loss = []\n",
    "list_train_precision = []\n",
    "list_valid_precision = []\n",
    "\n",
    "for epoch in range(num_epochs):\n",
    "    print(f'Epoch {epoch+1}\\n' + '-' * 20)\n",
    "    \n",
    "    train_avg_loss, train_precision = train_model(train_loader, model, loss_fn, optimizer)\n",
    "    valid_avg_loss, valid_precision = valid_model(valid_loader, model, loss_fn)\n",
    "    \n",
    "    list_train_avg_loss.append(train_avg_loss)\n",
    "    list_valid_avg_loss.append(valid_avg_loss)\n",
    "    list_train_precision.append(train_precision)\n",
    "    list_valid_precision.append(valid_precision)\n",
    "\n",
    "print('Entranamiento completo')"
   ]
  },
  {
   "cell_type": "code",
   "execution_count": 31,
   "metadata": {},
   "outputs": [
    {
     "data": {
      "image/png": "[encoded data removed]",
      "text/plain": [
       "<Figure size 640x480 with 1 Axes>"
      ]
     },
     "metadata": {},
     "output_type": "display_data"
    }
   ],
   "source": [
    "# 5.10)\n",
    "\n",
    "plt.xlabel('Epoch (época)')\n",
    "plt.ylabel('Loss (pérdida)')\n",
    "\n",
    "plt.plot(range(1, len(list_train_avg_loss)+1), list_train_avg_loss, label='Entranamiento', marker='o')\n",
    "plt.plot(range(1, len(list_valid_avg_loss)+1), list_valid_avg_loss, label='Validación', marker='^')\n",
    "\n",
    "\n",
    "plt.xlim(0, 31)\n",
    "#plt.ylim(0.4, 2.2)\n",
    "plt.grid()\n",
    "plt.legend()\n",
    "plt.show()"
   ]
  },
  {
   "cell_type": "code",
   "execution_count": 32,
   "metadata": {},
   "outputs": [
    {
     "data": {
      "image/png": "[encoded data removed]",
      "text/plain": [
       "<Figure size 640x480 with 1 Axes>"
      ]
     },
     "metadata": {},
     "output_type": "display_data"
    }
   ],
   "source": [
    "plt.xlabel('Epoch (época)')\n",
    "plt.ylabel('Accuracy (precisión)')\n",
    "\n",
    "plt.plot(range(1, len(list_train_precision)+1), list_train_precision, label='Entranamiento', marker='o')\n",
    "plt.plot(range(1, len(list_valid_precision)+1), list_valid_precision, label='Validación', marker='^')\n",
    "\n",
    "plt.xlim(0, 31)\n",
    "#plt.ylim(0.4, 2.2)\n",
    "plt.grid()\n",
    "plt.legend()\n",
    "plt.show()"
   ]
  }
 ],
 "metadata": {
  "colab": {
   "provenance": []
  },
  "kernelspec": {
   "display_name": "env_1",
   "language": "python",
   "name": "python3"
  },
  "language_info": {
   "codemirror_mode": {
    "name": "ipython",
    "version": 3
   },
   "file_extension": ".py",
   "mimetype": "text/x-python",
   "name": "python",
   "nbconvert_exporter": "python",
   "pygments_lexer": "ipython3",
   "version": "3.11.4"
  }
 },
 "nbformat": 4,
 "nbformat_minor": 0
}
