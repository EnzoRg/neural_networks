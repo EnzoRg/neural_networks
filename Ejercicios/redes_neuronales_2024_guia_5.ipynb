{
  "cells": [
    {
      "cell_type": "markdown",
      "metadata": {
        "id": "NRYEofSD0xoF"
      },
      "source": [
        "# El modelo *Integrate and Fire*\n",
        "\n",
        "## Teoría\n",
        "\n",
        "El modelo *Integrate and Fire* del comportamiento de una neurona viene descripto por dos ingredientes. En primer lugar, la ODE\n",
        "\n",
        "\\begin{equation}\n",
        "\\begin{aligned}\n",
        "\\frac{dV}{dt}\n",
        "&=&\n",
        "\\frac{1}{\\tau}\n",
        "\\left(\n",
        "E-V(t)\n",
        "+\n",
        "RI(t)\n",
        "\\right)\n",
        "\\end{aligned}\n",
        "\\end{equation}\n",
        "\n",
        "donde:\n",
        "\n",
        "* $V(t)$ representa el potencial de membrana al tiempo $t$,\n",
        "\n",
        "* $E\\approx -65mV$ representa el potencial de reposo,\n",
        "\n",
        "* $\\tau\\approx 10ms$ representa el tiempo de relajación,\n",
        "\n",
        "* $R\\approx 10M\\Omega$ representa una resistencia eléctrica, y\n",
        "\n",
        "* $I(t)\\approx 1nA$ representa una corriente/señal de entrada.\n",
        "\n",
        "En segundo lugar, un mecanismo de disparo definido por\n",
        "\n",
        "\\begin{equation}\n",
        "V(t) \\to E\n",
        "\\end{equation}\n",
        "\n",
        "cuando\n",
        "\n",
        "\\begin{equation}\n",
        "V(t) > V_u\n",
        "\\end{equation}\n",
        "\n",
        "donde:\n",
        "\n",
        "* $V_u \\approx -50mV$ representa un potencial umbral.\n",
        "\n",
        "Es decir, según el mecanismo de disparo, el potencial de membrana $V(t)$ se resetea a su valor de reposo $E$ si supera cierto valor umbral $V_u$.\n",
        "\n",
        "## Unidades\n",
        "\n",
        "* p = pico = $10^{-12}$\n",
        "* n = nano = $10^{-9}$\n",
        "* $\\mu$ = micro = $10^{-6}$\n",
        "* m = mili = $10^{-3}$\n",
        "* ...\n",
        "* k = kilo = $10^{3}$\n",
        "* M = Mega = $10^{6}$\n",
        "* G = Giga = $10^{9}$\n",
        "* T = Tera = $10^{12}$\n",
        "\n",
        "### Ley de Ohm\n",
        "\n",
        "Si $\\Omega$ = Ohmio, V = Voltio y A = Amper, entonces\n",
        "\n",
        "$$ 1\\, Ohm = 1 \\Omega = \\frac{1 V}{1 A} $$\n",
        "\n",
        "### Ley RC\n",
        "\n",
        "Si s = segundos y F = Faradios, entonces\n",
        "\n",
        "$$ 1 s = 1 \\Omega \\times 1 F $$\n",
        "\n",
        "### Hertz\n",
        "\n",
        "Si Hz = Hertz, luego\n",
        "\n",
        "$$ 1 Hz = \\frac{1}{1 s} $$\n",
        "\n",
        "### Referencias\n",
        "\n",
        "* https://technologystudent.com/elec1/ohm1.htm\n",
        "\n",
        "* https://en.wikipedia.org/wiki/Biological_neuron_model#Leaky_integrate-and-fire\n",
        "\n",
        "* https://compneuro.neuromatch.io/tutorials/W2D3_BiologicalNeuronModels/student/W2D3_Tutorial1.html"
      ]
    },
    {
      "cell_type": "markdown",
      "metadata": {
        "id": "xSg4xeHbPFTb"
      },
      "source": [
        "\n",
        "\n",
        "## **Ejercicio 1)** Importando librerías\n",
        "\n",
        "**1)** Importe las librerías `numpy` para operar con arrays, `scipy` para utilizar rutinas de algebra lineal y `matplotlib.pyplot` para graficar.\n",
        "\n",
        "**2)** Suba el archivo \"libreria\" `ode.py` que fabricó en el práctico 4), e impórtelo."
      ]
    },
    {
      "cell_type": "code",
      "execution_count": 1,
      "metadata": {
        "id": "I8N3D_nU1_oT"
      },
      "outputs": [],
      "source": [
        "# 1.1)\n",
        "import numpy as np\n",
        "import scipy as sp\n",
        "import scipy.linalg as linalg\n",
        "import matplotlib.pyplot as plt"
      ]
    },
    {
      "cell_type": "code",
      "execution_count": 2,
      "metadata": {},
      "outputs": [],
      "source": [
        "# 1.2)\n",
        "\n",
        "import ode"
      ]
    },
    {
      "cell_type": "markdown",
      "metadata": {
        "id": "NcaGEHAd10sb"
      },
      "source": [
        "## **Ejercicio 2)** Dinámica con mecanismo de disparo desactivado\n",
        "\n",
        "En lo que sigue, se considera desactivado el mecanismo de disparo.\n",
        "\n",
        "**1)** Resuelva analíticamente la ODE del modelo *Integrate and Fire* para una condición inicial arbitraria $V(0)=V_0$ y una corriente de entrada $I=0$.\n",
        "\n",
        "**2)** Grafique la solución para $V_0=10mV$ y $t\\in [0,100]ms$. Incorpore al gráfico una línea punteada indicando el potencial de reposo.\n",
        "\n",
        "**3)** Realice un análisis geométrico de la solución calculada. Incorpore flechas del campo vectorial así como los puntos fijos estables, inestables y marginales, si los hubiere.\n",
        "\n",
        "**4)** Repita **1)**, **2)** y **3)** para el caso de corriente de entrada constante, $I=2nA$.\n",
        "\n",
        "### Extra\n",
        "\n",
        "**5)** Resuelva analíticamente la ODE para una corriente de entrada $I:t\\to I(t)$ arbitraria."
      ]
    },
    {
      "cell_type": "code",
      "execution_count": 3,
      "metadata": {
        "id": "2EwuGG0gZs_-"
      },
      "outputs": [],
      "source": [
        "# 2.1)"
      ]
    },
    {
      "cell_type": "markdown",
      "metadata": {
        "id": "P4PcT2m4P7z-"
      },
      "source": [
        "Partimos de la ODE para $I=0$, donde el termino $RI(t)$ se vuelve cero\n",
        "\n",
        "\\begin{equation}\n",
        "\\frac{dV}{dt}\n",
        "=\n",
        "\\frac{1}{\\tau}\n",
        "\\left(\n",
        "E-V(t)\n",
        "\\right)\n",
        "\\end{equation}\n",
        "\n"
      ]
    },
    {
      "cell_type": "markdown",
      "metadata": {},
      "source": [
        "Al separar las variables\n",
        "\n",
        "\\begin{equation}\n",
        "\\frac{dV}{E-V(t)}\n",
        "=\n",
        "\\frac{1}{\\tau}dt\n",
        "\\end{equation}"
      ]
    },
    {
      "cell_type": "markdown",
      "metadata": {},
      "source": [
        "Integrando a ambos lados \n",
        "\\begin{equation}\n",
        "    \\int \\frac{dV}{E - V(t)} = \\int \\frac{1}{\\tau} dt\n",
        "\\end{equation}\n",
        "\n",
        "\\begin{equation}\n",
        "    -\\ln|E-V(t)|\n",
        "    =\n",
        "    \\frac{t}{\\tau}+C\n",
        "\\end{equation}"
      ]
    },
    {
      "cell_type": "markdown",
      "metadata": {},
      "source": [
        "Donde $C$ es la constante de integracion. Al resolver para $V(t)$\n",
        "\n",
        "\\begin{equation}\n",
        "    |E - V(t)| \n",
        "    = \n",
        "    e^{-\\frac{t}{\\tau} + C} \n",
        "    =\n",
        "    Ae^{-\\frac{t}{\\tau}}\n",
        "\\end{equation}"
      ]
    },
    {
      "cell_type": "markdown",
      "metadata": {},
      "source": [
        "Donde $A=e^C$ es una constante que depende de las condiciones iniciales. Como $V(0)=V_0$, obtenemos que $A = |E-V_0|$\n",
        "\n",
        "\\begin{equation}\n",
        "    V(t) = E + (V_0 - E) e^{-\\frac{t}{\\tau}}\n",
        "\\end{equation}\n"
      ]
    },
    {
      "cell_type": "code",
      "execution_count": 4,
      "metadata": {},
      "outputs": [],
      "source": [
        "# 2.2)"
      ]
    },
    {
      "cell_type": "markdown",
      "metadata": {},
      "source": [
        "La ecuación queda\n",
        "\n",
        "\n",
        "\\begin{equation}\n",
        "    V(t) = E + (V_0 - E) e^{-\\frac{t}{\\tau}}\n",
        "\\end{equation}\n",
        "\n",
        "\\begin{equation}\n",
        "    V(t) = -65 + (10 + 65) e^{-\\frac{t}{10}}\n",
        "\\end{equation}\n",
        "\n",
        "Con $t\\in [0,100]ms$"
      ]
    },
    {
      "cell_type": "code",
      "execution_count": 5,
      "metadata": {},
      "outputs": [],
      "source": [
        "E = -65\n",
        "V0 = 10\n",
        "tau = 10\n",
        "t = np.linspace(0, 100, 100)\n",
        "\n",
        "V_t = E + (V0-E)*np.exp(-t/tau)"
      ]
    },
    {
      "cell_type": "code",
      "execution_count": 6,
      "metadata": {},
      "outputs": [
        {
          "data": {
            "image/png": "[encoded data removed]",
            "text/plain": [
              "<Figure size 640x480 with 1 Axes>"
            ]
          },
          "metadata": {},
          "output_type": "display_data"
        }
      ],
      "source": [
        "plt.plot(t, V_t, label='$V(t)$')\n",
        "plt.axhline(E, linestyle='--', color='red', label='Potencial de reposo')\n",
        "plt.legend()\n",
        "plt.xlabel('Tiempo [ms]')\n",
        "plt.ylabel('Potencial [mV]')\n",
        "plt.show()"
      ]
    },
    {
      "cell_type": "code",
      "execution_count": 12,
      "metadata": {},
      "outputs": [
        {
          "data": {
            "text/plain": [
              "<function matplotlib.pyplot.show(close=None, block=None)>"
            ]
          },
          "execution_count": 12,
          "metadata": {},
          "output_type": "execute_result"
        },
        {
          "data": {
            "image/png": "[encoded data removed]",
            "text/plain": [
              "<Figure size 640x480 with 1 Axes>"
            ]
          },
          "metadata": {},
          "output_type": "display_data"
        }
      ],
      "source": [
        "# 2.3)\n",
        "\n",
        "Vfix = E\n",
        "\n",
        "def f(V):\n",
        "    return (E-V)/tau\n",
        "\n",
        "plt.xlabel('$V$ [mV]')\n",
        "plt.ylabel('$dV/dt=f(V)  [mV/ms]$')\n",
        "\n",
        "valores_V = np.linspace(-120, 20, 100)\n",
        "valores_f = np.vectorize(f)(valores_V)\n",
        "\n",
        "plt.plot(valores_V, valores_f, label=\"\", linestyle='-', color='red')\n",
        "plt.plot(valores_V, np.zeros(len(valores_V)), label=\"\", linestyle='--', color='gray')\n",
        "plt.plot([Vfix, Vfix], [-8, 8], label=\"$V^*=E$\", linestyle='--', c='cyan')\n",
        "plt.arrow(Vfix-20.0, 0.0, 10.0, 0.0, head_width=0.5, head_length=2, fc='g', ec='g')\n",
        "plt.arrow(Vfix+20.0, 0.0, -10.0, 0.0, head_width=0.5, head_length=2, fc='g', ec='g')\n",
        "plt.scatter([Vfix], [0], c='black')\n",
        "plt.title('Integrate and Fire: sin disparo ni corriente')\n",
        "plt.legend()\n",
        "plt.show"
      ]
    },
    {
      "cell_type": "code",
      "execution_count": 22,
      "metadata": {},
      "outputs": [],
      "source": [
        "# 2.5)"
      ]
    },
    {
      "cell_type": "markdown",
      "metadata": {},
      "source": [
        "La ecuación diferencial es:\n",
        "\n",
        "\\begin{equation}\n",
        "\\frac{dV}{dt} = \\frac{1}{\\tau} \\left( E - V(t) + R I(t) \\right)\n",
        "\\end{equation}\n",
        "\n",
        "Reorganizamos como:\n",
        "\n",
        "\\begin{equation}\n",
        "\\frac{dV}{dt} + \\frac{V(t)}{\\tau} = \\frac{E}{\\tau} + \\frac{R I(t)}{\\tau}\n",
        "\\end{equation}\n",
        "\n",
        "El factor integrante es $\\mu(t) = e^{t/\\tau}$, y multiplicando la ecuación por este factor:\n",
        "\n",
        "\\begin{equation}\n",
        "\\frac{d}{dt} \\left( e^{t/\\tau} V(t) \\right) = e^{t/\\tau} \\left( \\frac{E}{\\tau} + \\frac{R I(t)}{\\tau} \\right)\n",
        "\\end{equation}\n",
        "\n",
        "Integramos ambos lados:\n",
        "\n",
        "\\begin{equation}\n",
        "e^{t/\\tau} V(t) = \\int e^{t/\\tau} \\left( \\frac{E}{\\tau} + \\frac{R I(t)}{\\tau} \\right) dt + C\n",
        "\\end{equation}\n",
        "\n",
        "La solución general es:\n",
        "\n",
        "\\begin{equation}\n",
        "V(t) = E + e^{-t/\\tau} \\left[ V_0 - E + \\frac{1}{\\tau} \\int_0^t e^{t'/\\tau} R I(t') dt' \\right]\n",
        "\\end{equation}"
      ]
    },
    {
      "cell_type": "markdown",
      "metadata": {
        "id": "ZA8o18QvZLWY"
      },
      "source": [
        "## **Ejercicio 3)** Dinámica con mecanismo de disparo activado\n",
        "\n",
        "**1)** Resuelva numéricamente la ODE del modelo *Integrate and Fire* en el intervalo $t\\in [0,200]ms$ para la condición inicial $V(0)=E$ y una corriente de entrada $I(t)=I_0$ para todo $t$ con $I_0=2nA$. Utilice el paso de integración $h=0.05ms$.\n",
        "\n",
        "**2)** Grafique la solución computada en el inciso **3.1)**. Incorpore al gráfico la solución exacta del inciso **2.1)**, en donde el mecanismo de disparo está desactivado, para la misma condición inicial del inciso **3.1)**. Grafique, también, líneas punteadas horizontales marcando los valores de $V^*$ y $V_u$, donde $V^*$ es el valor de $V$ tal que $f(V)=0$.\n",
        "\n",
        "**3)** Para el caso indicado en el inciso **3.1)**, calcule analíticamente el período de disparo.\n",
        "Observe si el valor computado corresponde con el observado en el inciso **3.2)**.\n",
        "Grafíque la frencuencia en función de $I_0$.\n",
        "Que ocurre para valores pequeños de $I_0$?\n",
        "\n",
        "\n",
        "**4)** Repita **3.1)** y **3.2)** con $I_e(t)=I_0 \\cos(t/30ms)$ e $I_0=2.5nA$ para $0\\,ms\\leq t\\leq 500\\,ms$. En este caso, no incluya la solución exacta del inciso **2.1)**, pero sí lineas punteadas horizontales para marcar los valores de $E$ y $V_u$.\n",
        "\n",
        "**5)** Repita **3.1)** y **3.2)** con\n",
        "\n",
        "\\begin{equation}\n",
        "I(t)= I_0 \\, \\left(\n",
        "    \\cos{\\left( \\frac{t}{3ms} \\right)} +\n",
        "    \\sin{\\left( \\frac{t}{5ms} \\right)} +\n",
        "    \\cos{\\left( \\frac{t}{7ms} \\right)} +\n",
        "    \\sin{\\left( \\frac{t}{11ms} \\right)} +\n",
        "    \\cos{\\left( \\frac{t}{13ms} \\right)}  \\right)^2 \\, nA \\,\n",
        "    \\;\\;\\;(4)\n",
        "\\end{equation}\n",
        "\n",
        "e $I_0=0.35 nA$ para $0\\,ms\\leq t\\leq 200\\,ms$. Al igual que en inciso anterior, no incluya la solución exacta del inciso **2.a)**, pero sí lineas punteadas horizontales para marcar los valores de $E$ y $V_u$."
      ]
    }
  ],
  "metadata": {
    "colab": {
      "provenance": []
    },
    "kernelspec": {
      "display_name": "Python 3",
      "name": "python3"
    },
    "language_info": {
      "codemirror_mode": {
        "name": "ipython",
        "version": 3
      },
      "file_extension": ".py",
      "mimetype": "text/x-python",
      "name": "python",
      "nbconvert_exporter": "python",
      "pygments_lexer": "ipython3",
      "version": "3.11.4"
    }
  },
  "nbformat": 4,
  "nbformat_minor": 0
}
