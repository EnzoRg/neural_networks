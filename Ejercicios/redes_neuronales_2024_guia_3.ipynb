{
  "cells": [
    {
      "cell_type": "markdown",
      "metadata": {
        "id": "NRYEofSD0xoF"
      },
      "source": [
        "# Algebra lineal con **SciPy**\n",
        "\n",
        "Referencias:\n",
        "\n",
        "* https://docs.scipy.org/doc/scipy/reference/linalg.html\n",
        "* https://www.datacamp.com/cheat-sheet/scipy-cheat-sheet-linear-algebra-in-python\n",
        "\n",
        "## **Ejercicio 1)** Importando librerías\n",
        "\n",
        "Importe las librerías `numpy` para operar con arrays, `scipy` para utilizar rutinas de algebra lineal y `matplotlib.pyplot` para graficar."
      ]
    },
    {
      "cell_type": "code",
      "execution_count": 1,
      "metadata": {
        "id": "I8N3D_nU1_oT"
      },
      "outputs": [],
      "source": [
        "import numpy as np\n",
        "import scipy as sp\n",
        "import scipy.linalg as linalg\n",
        "import matplotlib.pyplot as plt"
      ]
    },
    {
      "cell_type": "markdown",
      "metadata": {
        "id": "NcaGEHAd10sb"
      },
      "source": [
        "## **Ejercicio 2)** Inversa de una matriz\n",
        "\n",
        "Referencias:\n",
        "\n",
        "* https://docs.scipy.org/doc/scipy/reference/generated/scipy.linalg.inv.html#scipy.linalg.inv\n",
        "\n",
        "**1)** Use `linalg.inv()` para calcular la inversa $A^{-1}$ de la matriz\n",
        "\n",
        "\\begin{equation}\n",
        "A = \\bigg(\n",
        "\\begin{array}{cc}\n",
        "1 & 2 \\\\\n",
        "3 & 4\n",
        "\\end{array}\n",
        "\\bigg)\n",
        "\\end{equation}\n",
        "\n",
        "**2)** Use `np.dot()` para chequear que $A^{-1}A \\approx \\mathbb{I}$, donde $\\mathbb{I}$ es la matriz identidad.\n",
        "\n",
        "**3)** Chequee que $AA^{-1} \\approx \\mathbb{I}$."
      ]
    },
    {
      "cell_type": "code",
      "execution_count": 2,
      "metadata": {
        "id": "tntEwNvE4SZC"
      },
      "outputs": [],
      "source": [
        "# 2.1)\n",
        "A = np.array([[1,2], [3, 4]])"
      ]
    },
    {
      "cell_type": "code",
      "execution_count": 3,
      "metadata": {},
      "outputs": [],
      "source": [
        "# 2.2)\n",
        "A_inv = linalg.inv(A)\n",
        "A_inv = np.array(A_inv)"
      ]
    },
    {
      "cell_type": "code",
      "execution_count": 4,
      "metadata": {},
      "outputs": [
        {
          "data": {
            "text/plain": [
              "array([[1.0000000e+00, 0.0000000e+00],\n",
              "       [8.8817842e-16, 1.0000000e+00]])"
            ]
          },
          "execution_count": 4,
          "metadata": {},
          "output_type": "execute_result"
        }
      ],
      "source": [
        "# 2.3) \n",
        "np.dot(A, A_inv)"
      ]
    },
    {
      "cell_type": "markdown",
      "metadata": {
        "id": "4pp5DryY2azA"
      },
      "source": [
        "## **Ejercicio 3)** Sistema de ecuaciones lineales\n",
        "\n",
        "Referencias:\n",
        "\n",
        "* https://docs.scipy.org/doc/scipy/reference/generated/scipy.linalg.solve.html#scipy.linalg.solve\n",
        "\n",
        "**1)** Use `linalg.solve()` para resolver el sistema $Ax=b$ donde, $x$ es la incógnita,\n",
        "\n",
        "\\begin{equation}\n",
        "A = \\left(\n",
        "\\begin{array}{cc}\n",
        "3 & 2 & 0 \\\\\n",
        "1 & -1 & 0 \\\\\n",
        "0 & 5 & 1\n",
        "\\end{array}\n",
        "\\right)\n",
        "\\end{equation}\n",
        "\n",
        "y\n",
        "\n",
        "\\begin{equation}\n",
        "b = \\left(\n",
        "\\begin{array}{cc}\n",
        "2 \\\\\n",
        "4 \\\\\n",
        "1\n",
        "\\end{array}\n",
        "\\right)\n",
        "\\end{equation}\n",
        "\n",
        "**2)** Chequee que $Ax=b$."
      ]
    },
    {
      "cell_type": "code",
      "execution_count": 5,
      "metadata": {
        "id": "PshUolMT2ZtI"
      },
      "outputs": [
        {
          "data": {
            "text/plain": [
              "array([[ 2.],\n",
              "       [-2.],\n",
              "       [11.]])"
            ]
          },
          "execution_count": 5,
          "metadata": {},
          "output_type": "execute_result"
        }
      ],
      "source": [
        "# 3.1)\n",
        "A = np.array([[3, 2, 0], [1, -1, 0], [0, 5, 1]])\n",
        "b = np.array([[2], [4], [1]])\n",
        "x = linalg.solve(A, b)\n",
        "x"
      ]
    },
    {
      "cell_type": "code",
      "execution_count": 6,
      "metadata": {},
      "outputs": [
        {
          "data": {
            "text/plain": [
              "array([[2.],\n",
              "       [4.],\n",
              "       [1.]])"
            ]
          },
          "execution_count": 6,
          "metadata": {},
          "output_type": "execute_result"
        }
      ],
      "source": [
        "# 3.2)\n",
        "np.dot(A, x)"
      ]
    },
    {
      "cell_type": "markdown",
      "metadata": {
        "id": "YS7bf2SJ2nws"
      },
      "source": [
        "## **Ejercicio 4)** Cuadrados mínimos\n",
        "\n",
        "Dada una matriz $X$ de dimensiones $n\\times m$ y un vector $y$ de dimensión $n$, la función `linalg.lstsq(X,y,...)` se usa para encontrar el vector $y$ de dimensión $m$ que minimize la norma L2 dada por $|y-Xc|$ con respecto al vector $c$ de dimensión $m$. Notar que minimizar esta cantidad no necesariamente implica que $Xc=y$. Minimizar $|y-Xc|$ es útil para infinidad de problemas. En particular, es útil para ajustar polinomios a curvas obtenidas de datos.\n",
        "\n",
        "Referencias:\n",
        "\n",
        "* https://docs.scipy.org/doc/scipy/reference/generated/scipy.linalg.lstsq.html#scipy.linalg.lstsq\n",
        "\n",
        "**1)** Use `linalg.lstsq(X,y)` para encontrar los coeficientes $c_0$, $c_1$ y $c_2$ del polinomio $p(x)=c_0+c_1x+c_2x^2$ que ajuste lo mejor posible los siguientes datos\n",
        "\n",
        "    x = np.array([1.0, 2.5, 3.5, 4.0, 5.0, 7.0, 8.5])\n",
        "    y = np.array([0.3, 1.1, 1.5, 2.0, 3.2, 6.6, 8.6])\n",
        "\n",
        "de acuerdo al método de cuadrados mínimos\n",
        "\n",
        "\\begin{equation}\n",
        "\\min_{c_0,c_1,c_2} \\sum_i (y_i-p(x_i))^2\n",
        "\\end{equation}\n",
        "\n",
        "**Ayuda:** Utilizar la matriz $X$ de entradas $X_{ij}=x_i^j$, i.e. la $j$-ésima potencia de $x_i$.\n",
        "\n",
        "**2)** Con el fin de evaluar la bondad del ajuste, grafique en una misma figura:\n",
        "\n",
        "* con símbolos los puntos $(x_i,y_i)$, y\n",
        "* con una curva el polinomio ajustado $p(x)$ vs $x$."
      ]
    },
    {
      "cell_type": "code",
      "execution_count": 7,
      "metadata": {
        "id": "EQXxlhEM2k8s"
      },
      "outputs": [
        {
          "data": {
            "text/plain": [
              "array([[ 1.  ,  1.  ,  1.  ],\n",
              "       [ 1.  ,  2.5 ,  6.25],\n",
              "       [ 1.  ,  3.5 , 12.25],\n",
              "       [ 1.  ,  4.  , 16.  ],\n",
              "       [ 1.  ,  5.  , 25.  ],\n",
              "       [ 1.  ,  7.  , 49.  ],\n",
              "       [ 1.  ,  8.5 , 72.25]])"
            ]
          },
          "execution_count": 7,
          "metadata": {},
          "output_type": "execute_result"
        }
      ],
      "source": [
        "# 4.1)\n",
        "x = np.array([1.0, 2.5, 3.5, 4.0, 5.0, 7.0, 8.5])\n",
        "y = np.array([0.3, 1.1, 1.5, 2.0, 3.2, 6.6, 8.6])\n",
        "\n",
        "X = np.row_stack([np.ones_like(x), x, x**2]).T\n",
        "X"
      ]
    },
    {
      "cell_type": "code",
      "execution_count": 8,
      "metadata": {},
      "outputs": [
        {
          "name": "stdout",
          "output_type": "stream",
          "text": [
            "Coeficientes: c0=0.06, c1=0.08, c2=0.11\n"
          ]
        }
      ],
      "source": [
        "c, res, rng, sng = linalg.lstsq(X, y)\n",
        "print(f'Coeficientes: c0={c[0]:.2f}, c1={c[1]:.2f}, c2={c[2]:.2f}')"
      ]
    },
    {
      "cell_type": "code",
      "execution_count": 9,
      "metadata": {},
      "outputs": [
        {
          "data": {
            "image/png": "[encoded data removed]",
            "text/plain": [
              "<Figure size 640x480 with 1 Axes>"
            ]
          },
          "metadata": {},
          "output_type": "display_data"
        }
      ],
      "source": [
        "# 4.2)\n",
        "plt.plot(x, y, 'o', label='Datos')\n",
        "xx = np.linspace(0, 9, 101)\n",
        "yy = c[0] + c[1]*xx+c[2]*xx**2\n",
        "plt.plot(xx, yy, label='Ajuste de cuadrados mínimos, $y = a + bx^2$')\n",
        "plt.xlabel('x')\n",
        "plt.ylabel('y')\n",
        "plt.legend()\n",
        "plt.grid(alpha=0.50)\n",
        "plt.show()"
      ]
    },
    {
      "cell_type": "markdown",
      "metadata": {
        "id": "Siuu1AyTP_cF"
      },
      "source": [
        "## **Ejercicio 5)** pseudo-inversa de Moore-Penrose de una matriz\n",
        "\n",
        "La pseudo-inversa de Moore-Penrose es una generalización de la noción de inversa, que resulta útil porque existe para cualquier matriz de dimensiones y entradas arbitrarias sobre los números reales o complejos.\n",
        "\n",
        "Si una matriz $A$ es invertible (y por ende cuadrada), existe una matriz $B$ tal $AB=BA=\\mathbb{I}$. Dicha matríz $B$ es única (para la $A$ dada) y, por ende, se la denota por $A^{-1}$ y se la denomina inversa de $A$.\n",
        "\n",
        "Si $A$ no es invertible, luego no existe una matriz $B$ para la cual se cumpla la primera condición $AB=BA=\\mathbb{I}$. Sin embargo, se puede ver que siempre existe una matriz $B$ para la cual se cumple:\n",
        "\n",
        "* $ABA = A$,\n",
        "* $BAB=B$,\n",
        "* $AB$ es hermitiana, y\n",
        "* $BA$ es hermitiana.\n",
        "\n",
        "Dicha matriz $B$ es única (para la $A$ dada) y, por ende, se la denota por $A^+$ y se la denomina matríz pseudo-inversa de Moore-Penrose de $A$.\n",
        "\n",
        "Referencias:\n",
        "\n",
        "* https://en.wikipedia.org/wiki/Moore%E2%80%93Penrose_inverse\n",
        "* https://docs.scipy.org/doc/scipy/reference/generated/scipy.linalg.pinv.html#scipy.linalg.pinv\n",
        "\n",
        "**1)** Cree una matriz $A$ de dimensiones $n\\times m$ con $n=9$ y $m=6$ de números aleatorios generados a partir de la distribución normal de media 0 y varianza 1.\n",
        "\n",
        "**2)** Use `linalg.pinv()` para computar la psuedo-inversa de Moore-Penrose $A^+$ de $A$.\n",
        "\n",
        "**3)** Que dimensiones tiene $A^+$?\n",
        "\n",
        "**4)** Use `np.allclose()` para verifique que $AA^+A\\approx A$.\n",
        "\n",
        "**5)** Verifique que $A^+AA^+\\approx A^+$."
      ]
    },
    {
      "cell_type": "code",
      "execution_count": 10,
      "metadata": {
        "colab": {
          "base_uri": "https://localhost:8080/"
        },
        "id": "j139zRcL44_O",
        "outputId": "1d492b56-757f-48e7-85f0-0ed340ad9efe"
      },
      "outputs": [],
      "source": [
        "# 5.1)\n",
        "\n",
        "seed = 27\n",
        "n, m = 9, 6\n",
        "np.random.seed(seed)\n",
        "# Genera números con distribución normal de media 0 y varianza 1\n",
        "A = np.random.randn(n, m) "
      ]
    },
    {
      "cell_type": "code",
      "execution_count": 11,
      "metadata": {},
      "outputs": [],
      "source": [
        "# 5.2)\n",
        "A_pinv = linalg.pinv(A)"
      ]
    },
    {
      "cell_type": "code",
      "execution_count": 12,
      "metadata": {},
      "outputs": [
        {
          "name": "stdout",
          "output_type": "stream",
          "text": [
            "Dimensiones de A+: (6, 9)\n"
          ]
        }
      ],
      "source": [
        "# 5.3)\n",
        "print(f'Dimensiones de A+: {A_pinv.shape}')"
      ]
    },
    {
      "cell_type": "code",
      "execution_count": 13,
      "metadata": {},
      "outputs": [
        {
          "name": "stdout",
          "output_type": "stream",
          "text": [
            "AA+A ≈ A\n",
            "Es correcto? True\n"
          ]
        }
      ],
      "source": [
        "# 5.4)\n",
        "print('AA+A ≈ A')\n",
        "# @ realiza una multiplicación matricial estándar \n",
        "print(f'Es correcto? {np.allclose(A, A @ A_pinv @ A)}') "
      ]
    },
    {
      "cell_type": "code",
      "execution_count": 14,
      "metadata": {},
      "outputs": [
        {
          "name": "stdout",
          "output_type": "stream",
          "text": [
            "A+AA+ ≈ A+\n",
            "Es correcto? True\n"
          ]
        }
      ],
      "source": [
        "# 5.5)\n",
        "print('A+AA+ ≈ A+')\n",
        "# @ realiza una multiplicación matricial estándar \n",
        "print(f'Es correcto? {np.allclose(A_pinv, A_pinv @ A @ A_pinv)}') "
      ]
    },
    {
      "cell_type": "markdown",
      "metadata": {
        "id": "lmq42jPWWvY0"
      },
      "source": [
        "## **Ejercicio 6)** Producto de Kronecker\n",
        "\n",
        "Considere las matrices\n",
        "\n",
        "\\begin{equation}\n",
        "A = \\left(\n",
        "\\begin{array}{cc}\n",
        "A_{11} & \\dots & A_{1m} \\\\\n",
        "\\vdots & \\ddots & \\vdots \\\\\n",
        "A_{nm} & \\dots & A_{nm}\n",
        "\\end{array}\n",
        "\\right)\n",
        "\\end{equation}\n",
        "\n",
        "y\n",
        "\n",
        "\\begin{equation}\n",
        "B = \\left(\n",
        "\\begin{array}{cc}\n",
        "B_{11} & \\dots & B_{1s} \\\\\n",
        "\\vdots & \\ddots & \\vdots \\\\\n",
        "B_{r1} & \\dots & B_{rs}\n",
        "\\end{array}\n",
        "\\right)\n",
        "\\end{equation}\n",
        "\n",
        "El producto de Kronecker es la matriz de dimensiones $nr\\times ms$ dada por\n",
        "\n",
        "\\begin{equation}\n",
        "A\\otimes B\n",
        "=\n",
        "\\left(\n",
        "\\begin{array}{cc}\n",
        "A_{11}B & \\dots & A_{1m}B \\\\\n",
        "\\vdots & \\ddots & \\vdots \\\\\n",
        "A_{n1}B & \\dots & A_{nm}B\n",
        "\\end{array}\n",
        "\\right)\n",
        "=\n",
        "\\left(\n",
        "\\begin{array}{cc}\n",
        "B_{11}A & \\dots & B_{1s}A \\\\\n",
        "\\vdots & \\ddots & \\vdots \\\\\n",
        "B_{r1}A & \\dots & B_{rs}A\n",
        "\\end{array}\n",
        "\\right)\n",
        "\\end{equation}\n",
        "\n",
        "donde $A_{ij}B$ es un bloque de la matriz $A\\otimes B$ igual al producto del escalar $A_{ij}$ por la matriz $B$.\n",
        "Idem para $B_{ij}A$.\n",
        "\n",
        "Referencias:\n",
        "\n",
        "* https://docs.scipy.org/doc/scipy/reference/generated/scipy.linalg.kron.html#scipy.linalg.kron\n",
        "\n",
        "**1)** Use `linalg.kron()` para calcular el producto de Kronecker de las matrices\n",
        "\n",
        "\\begin{equation}\n",
        "A = \\left(\n",
        "\\begin{array}{cc}\n",
        "1 & 2 \\\\\n",
        "3 & 4 \\\\\n",
        "\\end{array}\n",
        "\\right)\n",
        "\\end{equation}\n",
        "\n",
        "y\n",
        "\n",
        "\\begin{equation}\n",
        "B = \\left(\n",
        "\\begin{array}{cc}\n",
        "1 \\\\\n",
        "1 \\\\\n",
        "1 \\\\\n",
        "\\end{array}\n",
        "\\right)\n",
        "\\end{equation}\n",
        "\n",
        "Que dimensiones tiene $A\\otimes B$ en este caso?\n",
        "\n",
        "**2)** Repita para las matrices\n",
        "\n",
        "\\begin{equation}\n",
        "A = \\left(\n",
        "\\begin{array}{cc}\n",
        "1 & 2 \\\\\n",
        "3 & 4 \\\\\n",
        "\\end{array}\n",
        "\\right)\n",
        "\\end{equation}\n",
        "\n",
        "y\n",
        "\n",
        "\\begin{equation}\n",
        "B = \\left(\n",
        "\\begin{array}{cc}\n",
        "1 & 1 & 1\n",
        "\\end{array}\n",
        "\\right)\n",
        "\\end{equation}\n",
        "\n",
        "Que dimensiones tiene $A\\otimes B$ en este otro caso?"
      ]
    },
    {
      "cell_type": "code",
      "execution_count": 15,
      "metadata": {
        "colab": {
          "base_uri": "https://localhost:8080/"
        },
        "id": "HMSSVY0-IMx_",
        "outputId": "98ce83eb-5ac2-4347-ebde-e49d020b5cbf"
      },
      "outputs": [
        {
          "name": "stdout",
          "output_type": "stream",
          "text": [
            "Dimensiones de A x B: (6, 2)\n"
          ]
        }
      ],
      "source": [
        "# 6.1)\n",
        "\n",
        "A = np.array([[1, 2], [3, 4]])\n",
        "B = np.ones((3, 1))\n",
        "\n",
        "C = linalg.kron(A, B)\n",
        "print(f'Dimensiones de A x B: {C.shape}')\n"
      ]
    },
    {
      "cell_type": "code",
      "execution_count": 16,
      "metadata": {},
      "outputs": [
        {
          "name": "stdout",
          "output_type": "stream",
          "text": [
            "Dimensiones de A x B: (2, 6)\n"
          ]
        }
      ],
      "source": [
        "# 6.2)\n",
        "\n",
        "A = np.array([[1, 2], [3, 4]])\n",
        "B = np.ones((1, 3))\n",
        "\n",
        "C = linalg.kron(A, B)\n",
        "print(f'Dimensiones de A x B: {C.shape}')"
      ]
    },
    {
      "cell_type": "markdown",
      "metadata": {
        "id": "2OsaX5tGJ3QD"
      },
      "source": [
        "## **Ejercicio 7)** Autovalores y autovectores\n",
        "\n",
        "Considere una matriz $A$ de $n\\times m$. Luego, existen un conjunto de escalares $\\{\\lambda_1,...,\\lambda_n\\}$ y un correspondiente conjunto de vectores distintos $\\{v_1,...,v_n\\}$ tales que\n",
        "\n",
        "\\begin{equation}\n",
        "Av_i = \\lambda_i v_i \\;\\;\\;\\; (1)\n",
        "\\end{equation}\n",
        "\n",
        "para todo $i\\in\\{1,...,n\\}$. Estos $\\lambda_i$ y $v_i$ se denominan autovalores y autovectores a derecha de $A$, respectivamente. Los autovalores pueden repetirse, pueden ser nulos y se los suele ordenar de mayor a menor en orden descendiente de sus valores absolutos: $|\\lambda_1|\\geq |\\lambda_2|\\geq ...\\geq |\\lambda_n|\\geq 0$. Los autovectores pueden normalizarse, ya que si $v_i$ es autovector, luego $v_i/|v_i|$ también lo es.\n",
        "\n",
        "Los autovectores constituyen una base del dominio de $A$. Esto es muy útil porque permite escribir cualquier vector $v$ en el dominio de $A$ como una combinación linal de sus autovectores\n",
        "\n",
        "\\begin{equation}\n",
        "v = \\sum_i c_i v_i\n",
        "\\end{equation}\n",
        "\n",
        "Luego, calcular el producto de $A$ con $v$ resulta muy simple\n",
        "\n",
        "\\begin{equation}\n",
        "Av = A\\left(\\sum_i c_i v_i\\right) = \\sum_i c_iAv_i = \\sum_i c_i\\lambda_iv_i\n",
        "\\end{equation}\n",
        "\n",
        "Análogamente, existen un conjunto de escalares $\\{\\mu_1,...,\\mu_m\\}$ y un correspondiente conjunto de vectores diferentes $\\{u_1,...,u_m\\}$ de $A$, llamados autovalores y autovectores a izquierda de $A$, respectivamente, y son tales que\n",
        "\n",
        "\\begin{equation}\n",
        "u_jA = \\mu_j u_j \\;\\;\\;\\; (2)\n",
        "\\end{equation}\n",
        "\n",
        "para todo $j\\in\\{1,...,m\\}$.\n",
        "\n",
        "**1)** Use `linalg.eigvals()` para calcular los autovalores a derecha de la matriz\n",
        "\n",
        "\\begin{equation}\n",
        "A = \\left(\n",
        "\\begin{array}{cc}\n",
        "0 & -1 \\\\\n",
        "1 &  0\n",
        "\\end{array}\n",
        "\\right)\n",
        "\\end{equation}\n",
        "\n",
        "Referencias:\n",
        "\n",
        "* https://docs.scipy.org/doc/scipy/reference/generated/scipy.linalg.eig.html#scipy.linalg.eig\n",
        "\n",
        "**2)** Use `linalg.eig()` para calcular los autovalores y los correspondientes autovectores a derecha de $A$.\n",
        "\n",
        "**3)** Verifique que la ecuación $(1)$ se cumple.\n",
        "\n",
        "**4)** Use `linalg.eig()` para calcular los autovalores y los correspondientes autovectores a izquierda de $A$.\n",
        "\n",
        "**5)** Verifique que la ecuación $(2)$ se cumple."
      ]
    },
    {
      "cell_type": "code",
      "execution_count": 17,
      "metadata": {
        "colab": {
          "base_uri": "https://localhost:8080/"
        },
        "id": "MmZ790fmKNQP",
        "outputId": "10d21c13-77c8-426a-ea8a-555dbe42e575"
      },
      "outputs": [
        {
          "data": {
            "text/plain": [
              "array([0.+1.j, 0.-1.j])"
            ]
          },
          "execution_count": 17,
          "metadata": {},
          "output_type": "execute_result"
        }
      ],
      "source": [
        "# 7.1)\n",
        "\n",
        "A = np.array([[0, -1], [1, 0]])\n",
        "linalg.eigvals(A)"
      ]
    },
    {
      "cell_type": "code",
      "execution_count": 18,
      "metadata": {},
      "outputs": [
        {
          "name": "stdout",
          "output_type": "stream",
          "text": [
            "[0.+1.j 0.-1.j]\n",
            "[[0.70710678+0.j         0.70710678-0.j        ]\n",
            " [0.        -0.70710678j 0.        +0.70710678j]]\n"
          ]
        }
      ],
      "source": [
        "# 7.2)\n",
        "\n",
        "aval, avect = linalg.eig(A)\n",
        "print(aval)\n",
        "print(avect)"
      ]
    },
    {
      "cell_type": "code",
      "execution_count": 19,
      "metadata": {},
      "outputs": [
        {
          "name": "stdout",
          "output_type": "stream",
          "text": [
            "Es correcto 1? True\n",
            "Es correcto 2? True\n"
          ]
        }
      ],
      "source": [
        "# 7.3) \n",
        "\n",
        "for i in range(len(aval)):\n",
        "    Av = np.dot(A, avect[:, i])\n",
        "    lv = aval[i] * avect[:, i]\n",
        "    print(f'Es correcto {i+1}? {np.allclose(Av, lv)}') "
      ]
    },
    {
      "cell_type": "code",
      "execution_count": 20,
      "metadata": {},
      "outputs": [
        {
          "name": "stdout",
          "output_type": "stream",
          "text": [
            "[0.+1.j 0.-1.j]\n",
            "[[0.70710678+0.j         0.70710678-0.j        ]\n",
            " [0.        -0.70710678j 0.        +0.70710678j]]\n"
          ]
        }
      ],
      "source": [
        "# 7.4)\n",
        "\n",
        "aval, avect_izq = linalg.eig(A, left=True, right=False)\n",
        "print(aval)\n",
        "print(avect)"
      ]
    },
    {
      "cell_type": "code",
      "execution_count": 21,
      "metadata": {},
      "outputs": [
        {
          "name": "stdout",
          "output_type": "stream",
          "text": [
            "Es correcto 1? True\n",
            "Es correcto 2? True\n"
          ]
        }
      ],
      "source": [
        "# 7.5)\n",
        "\n",
        "for i in range(len(aval)):\n",
        "    Av_izq = np.dot(A, avect_izq[:, i])\n",
        "    lv = aval[i] * avect_izq[:, i]\n",
        "    print(f'Es correcto {i+1}? {np.allclose(Av_izq, lv)}') "
      ]
    },
    {
      "cell_type": "markdown",
      "metadata": {
        "id": "hJq6cMug_8WP"
      },
      "source": [
        "## **Ejercicio 8)** Singular Value Decomposition (SVD)\n",
        "\n",
        "Una matriz compleja $A$ de dimensiones $n\\times m$ se la puede pensar como una transformación lineal $A:V\\to W$ desde un espacio vectorial $V$ de dimensión $m$ a un espacio vectorial $W$ de dimensión $n$.\n",
        "A $V$ se lo suele llamar espacio de salida y a $W$ espacio de llegada.\n",
        "\n",
        "Cualquiera sea $A$, siempre existen matrices $L$, $D$ y $R$, de dimensiones $n\\times n$, $n\\times m$ y $m\\times m$, respectivamente, tales que $L$ y $R$ son unitarias, $D$ es diagonal y\n",
        "\n",
        "\\begin{equation}\n",
        "A = LDR^{\\dagger} \\;\\;\\;\\; (1)\n",
        "\\end{equation}\n",
        "\n",
        "Los valores diagonales\n",
        "\n",
        "\\begin{equation}\n",
        "\\sigma_i := D_{ii}\n",
        "\\end{equation}\n",
        "\n",
        "están definidos para todo $i\\in \\{1,...,k\\}$, donde $k=\\min(n,m)$,\n",
        "se los denomina valores singulares de $A$, son todos reales y no-negativos.\n",
        "La descomposición siempre puede realizarse de manera tal que $\\sigma_1\\geq \\sigma_2 \\geq ... \\geq \\sigma_k\\geq 0$.\n",
        "El número de valores singulares no nulos es el rango de $A$.\n",
        "\n",
        "Los vectores columna $l_1,...,l_n$ de $L$ forman una base ortonormal del espacio vectorial de llegada $W$.\n",
        "Los vectores columna $r_1,...,r_m$ de $R$ forman una base ortonormal del espacio vectorial de salida $V$.\n",
        "Usando estas propiedades, la ecuación $(1)$ puede reescribirse como\n",
        "\n",
        "\\begin{equation}\n",
        "A = \\sum_{i=1}^k \\sigma_i \\, (l_i \\otimes r_i^{\\dagger}) \\;\\;\\;\\; (2)\n",
        "\\end{equation}\n",
        "\n",
        "donde $l_i \\otimes r_i^{\\dagger}$ es la matriz de dimensiones $n\\times m$ resultante del producto de Kronecker entre la matriz $l_i$ de dimensiones $n\\times 1$ y la matriz $r_i^{\\dagger}$ de dimensiones $1\\times m$.\n",
        "\n",
        "Referencias:\n",
        "\n",
        "* https://en.wikipedia.org/wiki/Singular_value_decomposition\n",
        "* https://docs.scipy.org/doc/scipy/reference/generated/scipy.linalg.svd.html#scipy.linalg.svd\n",
        "\n",
        "**1)** Cree una matriz compleja $A$ de dimensiones $n\\times m$ con $n=9$ y $m=6$, cuyas entradas $a_{ij} = x_{ij} + i y_{ij}$ se computen generando números aleatorios $x_{ij}$ e $y_{ij}$ a partir de una distribución normal de media 0 y varianza 1.\n",
        "\n",
        "**2)** Use `linalg.svd()` para calcular la SVD de $A$. Dicha función retorna 3 arrays, digamos `L`, `s` y `Rc`, donde `L` denota a la matriz $L$, `s` denota al vector de valores singulares $(\\sigma_1,\\sigma_2,...,\\sigma_k)$ y `Rc` denota a la matriz compleja conjugada $R^{\\dagger}$.\n",
        "Inspeccione las dimensiones de los arrays retornados.\n",
        "\n",
        "**3)** Use el vector `s` para crear la matriz diagonal $D$ de dimensiones $n\\times m$.\n",
        "\n",
        "**4)** Use `np.allclose()` para verificar numéricamente la ecuación $(1)$."
      ]
    },
    {
      "cell_type": "code",
      "execution_count": 22,
      "metadata": {
        "id": "0pUK7GdhAQBy"
      },
      "outputs": [],
      "source": [
        "# 8.1)\n",
        "seed = 27\n",
        "n, m = 9, 6\n",
        "np.random.seed(seed)\n",
        "A = np.random.randn(n, m) "
      ]
    },
    {
      "cell_type": "code",
      "execution_count": 23,
      "metadata": {},
      "outputs": [
        {
          "name": "stdout",
          "output_type": "stream",
          "text": [
            "Dimension de L  : (9, 9)\n",
            "Dimension de s  : (6,)\n",
            "Dimension de Rc : (6, 6)\n"
          ]
        }
      ],
      "source": [
        "# 8.2)\n",
        "\n",
        "L, s, Rc = linalg.svd(A)\n",
        "\n",
        "print(f'Dimension de L  : {L.shape}')\n",
        "print(f'Dimension de s  : {s.shape}')\n",
        "print(f'Dimension de Rc : {Rc.shape}')"
      ]
    },
    {
      "cell_type": "code",
      "execution_count": 24,
      "metadata": {},
      "outputs": [
        {
          "name": "stdout",
          "output_type": "stream",
          "text": [
            "Dimension de D: (9, 6)\n"
          ]
        }
      ],
      "source": [
        "# 8.3)\n",
        "\n",
        "D = np.zeros((n, m))#, dtype=complex)\n",
        "np.fill_diagonal(D, s)\n",
        "print(f'Dimension de D: {D.shape}')"
      ]
    },
    {
      "cell_type": "code",
      "execution_count": 25,
      "metadata": {},
      "outputs": [
        {
          "name": "stdout",
          "output_type": "stream",
          "text": [
            "Es correcto? True\n"
          ]
        }
      ],
      "source": [
        "# 8.4)\n",
        "\n",
        "Ap = np.dot(L, np.dot(D, Rc))\n",
        "print(f'Es correcto? {np.allclose(A, Ap)}')"
      ]
    }
  ],
  "metadata": {
    "colab": {
      "provenance": []
    },
    "kernelspec": {
      "display_name": "Python 3",
      "name": "python3"
    },
    "language_info": {
      "codemirror_mode": {
        "name": "ipython",
        "version": 3
      },
      "file_extension": ".py",
      "mimetype": "text/x-python",
      "name": "python",
      "nbconvert_exporter": "python",
      "pygments_lexer": "ipython3",
      "version": "3.11.4"
    }
  },
  "nbformat": 4,
  "nbformat_minor": 0
}
